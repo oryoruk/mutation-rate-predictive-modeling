{
 "cells": [
  {
   "cell_type": "code",
   "execution_count": 3,
   "metadata": {
    "collapsed": false
   },
   "outputs": [
    {
     "name": "stderr",
     "output_type": "stream",
     "text": [
      "/home/oryoruk/anaconda/lib/python2.7/site-packages/IPython/core/interactiveshell.py:2881: FutureWarning: \n",
      "mpl_style had been deprecated and will be removed in a future version.\n",
      "Use `matplotlib.pyplot.style.use` instead.\n",
      "\n",
      "  exec(code_obj, self.user_global_ns, self.user_ns)\n"
     ]
    }
   ],
   "source": [
    "import copy\n",
    "import csv\n",
    "import pandas as pd\n",
    "import numpy as np\n",
    "import scipy as scipy\n",
    "from scipy.stats import pearsonr\n",
    "import math\n",
    "import matplotlib\n",
    "import matplotlib.pyplot as plt\n",
    "#from matplotlib_venn import venn3, venn3_circles, venn2, venn2_circles\n",
    "import itertools\n",
    "from copy import deepcopy\n",
    "from collections import defaultdict\n",
    "from datetime import datetime\n",
    "import random\n",
    "pd.options.display.mpl_style = 'default'\n",
    "%matplotlib inline\n",
    "import pickle\n",
    "#%pylab inline\n",
    "import os\n",
    "import matplotlib.ticker as mtick\n",
    "from scipy.stats import chi2_contingency\n",
    "import re"
   ]
  },
  {
   "cell_type": "markdown",
   "metadata": {},
   "source": [
    "# partition varun's non-coding regions file into each chromosome"
   ]
  },
  {
   "cell_type": "code",
   "execution_count": 4,
   "metadata": {
    "collapsed": true
   },
   "outputs": [],
   "source": [
    "bed_columns = ['chrom','chrom_start','chrom_end']"
   ]
  },
  {
   "cell_type": "code",
   "execution_count": 5,
   "metadata": {
    "collapsed": false
   },
   "outputs": [],
   "source": [
    "regions = pd.read_csv('/home/oryoruk/rt_mr_corr/data/formatted_regions_sites/non_coding_all_after_pruned.interval_sorted', delimiter = '\\t', header = None, names = bed_columns,\n",
    "                             dtype ={'chrom':object} )"
   ]
  },
  {
   "cell_type": "code",
   "execution_count": 7,
   "metadata": {
    "collapsed": false
   },
   "outputs": [
    {
     "data": {
      "text/plain": [
       "{'1',\n",
       " '10',\n",
       " '11',\n",
       " '12',\n",
       " '13',\n",
       " '14',\n",
       " '15',\n",
       " '16',\n",
       " '17',\n",
       " '18',\n",
       " '19',\n",
       " '2',\n",
       " '20',\n",
       " '21',\n",
       " '22',\n",
       " '3',\n",
       " '4',\n",
       " '5',\n",
       " '6',\n",
       " '7',\n",
       " '8',\n",
       " '9',\n",
       " 'X'}"
      ]
     },
     "execution_count": 7,
     "metadata": {},
     "output_type": "execute_result"
    }
   ],
   "source": [
    "set(regions.chrom)"
   ]
  },
  {
   "cell_type": "code",
   "execution_count": 8,
   "metadata": {
    "collapsed": false
   },
   "outputs": [
    {
     "data": {
      "text/plain": [
       "1200100"
      ]
     },
     "execution_count": 8,
     "metadata": {},
     "output_type": "execute_result"
    }
   ],
   "source": [
    "len(regions)"
   ]
  },
  {
   "cell_type": "code",
   "execution_count": null,
   "metadata": {
    "collapsed": true
   },
   "outputs": [],
   "source": []
  },
  {
   "cell_type": "code",
   "execution_count": 4,
   "metadata": {
    "collapsed": false
   },
   "outputs": [
    {
     "data": {
      "text/html": [
       "<div style=\"max-height:1000px;max-width:1500px;overflow:auto;\">\n",
       "<table border=\"1\" class=\"dataframe\">\n",
       "  <thead>\n",
       "    <tr style=\"text-align: right;\">\n",
       "      <th></th>\n",
       "      <th>chrom</th>\n",
       "      <th>chrom_start</th>\n",
       "      <th>chrom_end</th>\n",
       "    </tr>\n",
       "  </thead>\n",
       "  <tbody>\n",
       "    <tr>\n",
       "      <th>0</th>\n",
       "      <td> 1</td>\n",
       "      <td> 46081</td>\n",
       "      <td> 47081</td>\n",
       "    </tr>\n",
       "    <tr>\n",
       "      <th>1</th>\n",
       "      <td> 1</td>\n",
       "      <td> 47081</td>\n",
       "      <td> 48081</td>\n",
       "    </tr>\n",
       "    <tr>\n",
       "      <th>2</th>\n",
       "      <td> 1</td>\n",
       "      <td> 48081</td>\n",
       "      <td> 49081</td>\n",
       "    </tr>\n",
       "    <tr>\n",
       "      <th>3</th>\n",
       "      <td> 1</td>\n",
       "      <td> 49081</td>\n",
       "      <td> 50081</td>\n",
       "    </tr>\n",
       "    <tr>\n",
       "      <th>4</th>\n",
       "      <td> 1</td>\n",
       "      <td> 51081</td>\n",
       "      <td> 52081</td>\n",
       "    </tr>\n",
       "  </tbody>\n",
       "</table>\n",
       "</div>"
      ],
      "text/plain": [
       "  chrom  chrom_start  chrom_end\n",
       "0     1        46081      47081\n",
       "1     1        47081      48081\n",
       "2     1        48081      49081\n",
       "3     1        49081      50081\n",
       "4     1        51081      52081"
      ]
     },
     "execution_count": 4,
     "metadata": {},
     "output_type": "execute_result"
    }
   ],
   "source": [
    "regions.head()"
   ]
  },
  {
   "cell_type": "code",
   "execution_count": null,
   "metadata": {
    "collapsed": false
   },
   "outputs": [],
   "source": [
    "regions.tail()"
   ]
  },
  {
   "cell_type": "code",
   "execution_count": 6,
   "metadata": {
    "collapsed": false
   },
   "outputs": [
    {
     "data": {
      "text/html": [
       "<div style=\"max-height:1000px;max-width:1500px;overflow:auto;\">\n",
       "<table border=\"1\" class=\"dataframe\">\n",
       "  <thead>\n",
       "    <tr style=\"text-align: right;\">\n",
       "      <th></th>\n",
       "      <th>chrom</th>\n",
       "      <th>chrom_start</th>\n",
       "      <th>chrom_end</th>\n",
       "    </tr>\n",
       "  </thead>\n",
       "  <tbody>\n",
       "    <tr>\n",
       "      <th>1112405</th>\n",
       "      <td> X</td>\n",
       "      <td> 172712</td>\n",
       "      <td> 173712</td>\n",
       "    </tr>\n",
       "    <tr>\n",
       "      <th>1112406</th>\n",
       "      <td> X</td>\n",
       "      <td> 173712</td>\n",
       "      <td> 174712</td>\n",
       "    </tr>\n",
       "    <tr>\n",
       "      <th>1112407</th>\n",
       "      <td> X</td>\n",
       "      <td> 174712</td>\n",
       "      <td> 175712</td>\n",
       "    </tr>\n",
       "    <tr>\n",
       "      <th>1112408</th>\n",
       "      <td> X</td>\n",
       "      <td> 175712</td>\n",
       "      <td> 176712</td>\n",
       "    </tr>\n",
       "    <tr>\n",
       "      <th>1112409</th>\n",
       "      <td> X</td>\n",
       "      <td> 176712</td>\n",
       "      <td> 177712</td>\n",
       "    </tr>\n",
       "  </tbody>\n",
       "</table>\n",
       "</div>"
      ],
      "text/plain": [
       "        chrom  chrom_start  chrom_end\n",
       "1112405     X       172712     173712\n",
       "1112406     X       173712     174712\n",
       "1112407     X       174712     175712\n",
       "1112408     X       175712     176712\n",
       "1112409     X       176712     177712"
      ]
     },
     "execution_count": 6,
     "metadata": {},
     "output_type": "execute_result"
    }
   ],
   "source": [
    "regions[regions.chrom=='X'].head()"
   ]
  },
  {
   "cell_type": "code",
   "execution_count": 7,
   "metadata": {
    "collapsed": true
   },
   "outputs": [],
   "source": [
    "for chrom in [\"1\",\"2\",\"3\",\"4\",\"5\",\"6\",\"7\",\"8\",\"9\",\"10\",\"11\",\"12\",\"13\",\"14\",\"15\",\"16\",\"17\",\"18\",\"19\",\"20\",\"21\",\"22\",\"X\"]:\n",
    "    regions[regions.chrom==chrom].to_csv('/home/oryoruk/rt_mr_corr/data/formatted_regions_sites/non_coding_all_after_pruned.interval_sorted'+'_chr'+chrom,sep='\\t',index=False,header=False)"
   ]
  },
  {
   "cell_type": "code",
   "execution_count": 9,
   "metadata": {
    "collapsed": true
   },
   "outputs": [
    {
     "name": "stdout",
     "output_type": "stream",
     "text": [
      "cpgs_formatted.bed\r\n",
      "dm_decode.bed\r\n",
      "dm_dg_combined.bed\r\n",
      "dm_goldmann.bed\r\n",
      "dm_gonl.bed\r\n",
      "non_coding_all_after_pruned.interval_sorted\r\n",
      "non_coding_all_after_pruned.interval_sorted_acc_filtered\r\n",
      "non_coding_all_after_pruned.interval_sorted_acc_filtered_s1\r\n",
      "non_coding_all_after_pruned.interval_sorted_acc_filtered_s2\r\n",
      "non_coding_all_after_pruned.interval_sorted_acc_filtered_s3\r\n",
      "non_coding_all_after_pruned.interval_sorted_acc_filtered_s4\r\n",
      "non_coding_all_after_pruned.interval_sorted_chr1\r\n",
      "non_coding_all_after_pruned.interval_sorted_chr10\r\n",
      "non_coding_all_after_pruned.interval_sorted_chr11\r\n",
      "non_coding_all_after_pruned.interval_sorted_chr12\r\n",
      "non_coding_all_after_pruned.interval_sorted_chr13\r\n",
      "non_coding_all_after_pruned.interval_sorted_chr14\r\n",
      "non_coding_all_after_pruned.interval_sorted_chr15\r\n",
      "non_coding_all_after_pruned.interval_sorted_chr16\r\n",
      "non_coding_all_after_pruned.interval_sorted_chr17\r\n",
      "non_coding_all_after_pruned.interval_sorted_chr18\r\n",
      "non_coding_all_after_pruned.interval_sorted_chr19\r\n",
      "non_coding_all_after_pruned.interval_sorted_chr2\r\n",
      "non_coding_all_after_pruned.interval_sorted_chr20\r\n",
      "non_coding_all_after_pruned.interval_sorted_chr21\r\n",
      "non_coding_all_after_pruned.interval_sorted_chr22\r\n",
      "non_coding_all_after_pruned.interval_sorted_chr3\r\n",
      "non_coding_all_after_pruned.interval_sorted_chr4\r\n",
      "non_coding_all_after_pruned.interval_sorted_chr5\r\n",
      "non_coding_all_after_pruned.interval_sorted_chr6\r\n",
      "non_coding_all_after_pruned.interval_sorted_chr7\r\n",
      "non_coding_all_after_pruned.interval_sorted_chr8\r\n",
      "non_coding_all_after_pruned.interval_sorted_chr9\r\n",
      "non_coding_all_after_pruned.interval_sorted_chrX\r\n",
      "non_coding_all_after_pruned.interval_sorted_s1\r\n",
      "non_coding_all_after_pruned.interval_sorted_s2\r\n",
      "non_coding_all_after_pruned.interval_sorted_s3\r\n",
      "non_coding_all_after_pruned.interval_sorted_s4\r\n",
      "reg_encode__acc_nc_auto.bed\r\n",
      "reg_encode__sf12345.bed\r\n",
      "reg_rt_fsu_hesc_bg01.bed\r\n",
      "reg_rt_hmmseg_fsu_hesc_bg01.bed\r\n",
      "reg_rt_hmmseg_fsu_hipsc_h2.bed\r\n",
      "reg_rt_hmmseg_fsu_lb_rchacv.bed\r\n",
      "reg_rt_hmmseg_koren_lb.bed\r\n",
      "reg_rt_koren_lb.bed\r\n",
      "reg_rt_uva.bed\r\n",
      "reg_s1_fsu_hesc_bg01.bed\r\n",
      "reg_s1_hmmseg_fsu_hesc_bg01.bed\r\n",
      "reg_s1_hmmseg_fsu_hipsc_h2.bed\r\n",
      "reg_s1_hmmseg_fsu_lb_rchacv.bed\r\n",
      "reg_s1_hmmseg_koren_lb.bed\r\n",
      "reg_s1_koren_lb.bed\r\n",
      "reg_s1_uva.bed\r\n",
      "reg_s2_fsu_hesc_bg01.bed\r\n",
      "reg_s2_hmmseg_fsu_hesc_bg01.bed\r\n",
      "reg_s2_hmmseg_fsu_hipsc_h2.bed\r\n",
      "reg_s2_hmmseg_fsu_lb_rchacv.bed\r\n",
      "reg_s2_hmmseg_koren_lb.bed\r\n",
      "reg_s2_koren_lb.bed\r\n",
      "reg_s2_uva.bed\r\n",
      "reg_s3_fsu_hesc_bg01.bed\r\n",
      "reg_s3_hmmseg_fsu_hesc_bg01.bed\r\n",
      "reg_s3_hmmseg_fsu_hipsc_h2.bed\r\n",
      "reg_s3_hmmseg_fsu_lb_rchacv.bed\r\n",
      "reg_s3_hmmseg_koren_lb.bed\r\n",
      "reg_s3_koren_lb.bed\r\n",
      "reg_s3_uva.bed\r\n",
      "reg_s4_fsu_hesc_bg01.bed\r\n",
      "reg_s4_hmmseg_fsu_hesc_bg01.bed\r\n",
      "reg_s4_hmmseg_fsu_hipsc_h2.bed\r\n",
      "reg_s4_hmmseg_fsu_lb_rchacv.bed\r\n",
      "reg_s4_hmmseg_koren_lb.bed\r\n",
      "reg_s4_koren_lb.bed\r\n",
      "reg_s4_uva.bed\r\n",
      "reg_whole__acc_auto.bed\r\n",
      "reg_whole__acc_auto_cpg.bed\r\n",
      "reg_whole__acc_auto_noncpg.bed\r\n",
      "reg_whole__acc_nc_auto.bed\r\n",
      "reg_whole__acc_nc_auto_cpg.bed\r\n",
      "reg_whole__acc_nc_auto_noncpg.bed\r\n",
      "reg_whole__all.bed\r\n",
      "reg_whole__nc2_cpg.bed\r\n",
      "reg_whole__sf12345.bed\r\n",
      "rt_fsu_hesc_bg01.bed\r\n",
      "rt_koren_lb.bed\r\n",
      "sm_koren.bed\r\n",
      "snp_1kg_afr.bed\r\n",
      "snp_1kg_asn.bed\r\n",
      "snp_1kg_combined.bed\r\n",
      "snp_1kg_eur.bed\r\n",
      "snp_pg_jw.bed\r\n"
     ]
    }
   ],
   "source": [
    "!ls /home/oryoruk/rt_mr_corr/data/formatted_regions_sites/"
   ]
  },
  {
   "cell_type": "code",
   "execution_count": 13,
   "metadata": {
    "collapsed": false
   },
   "outputs": [
    {
     "name": "stdout",
     "output_type": "stream",
     "text": [
      "10\t60544\t61544\r\n",
      "10\t61544\t62544\r\n",
      "10\t62544\t63544\r\n",
      "10\t64544\t65544\r\n",
      "10\t65544\t66544\r\n",
      "10\t66544\t67544\r\n",
      "10\t67544\t68544\r\n",
      "10\t68544\t69544\r\n",
      "10\t69544\t70544\r\n",
      "10\t70544\t71544\r\n"
     ]
    }
   ],
   "source": [
    "!head /home/oryoruk/rt_mr_corr/data/formatted_regions_sites/non_coding_all_after_pruned.interval_sorted_chr10"
   ]
  },
  {
   "cell_type": "code",
   "execution_count": 14,
   "metadata": {
    "collapsed": false
   },
   "outputs": [
    {
     "name": "stdout",
     "output_type": "stream",
     "text": [
      "10\t135502492\t135503492\r\n",
      "10\t135503492\t135504492\r\n",
      "10\t135504492\t135505492\r\n",
      "10\t135506917\t135507917\r\n",
      "10\t135507917\t135508917\r\n",
      "10\t135509917\t135510917\r\n",
      "10\t135510917\t135511917\r\n",
      "10\t135511917\t135512917\r\n",
      "10\t135512917\t135513917\r\n",
      "10\t135513917\t135514917\r\n"
     ]
    }
   ],
   "source": [
    "!tail /home/oryoruk/rt_mr_corr/data/formatted_regions_sites/non_coding_all_after_pruned.interval_sorted_chr10"
   ]
  },
  {
   "cell_type": "code",
   "execution_count": 15,
   "metadata": {
    "collapsed": false
   },
   "outputs": [
    {
     "name": "stdout",
     "output_type": "stream",
     "text": [
      "1\t46081\t47081\r\n",
      "1\t47081\t48081\r\n",
      "1\t48081\t49081\r\n",
      "1\t49081\t50081\r\n",
      "1\t51081\t52081\r\n",
      "1\t55081\t56081\r\n",
      "1\t56081\t57081\r\n",
      "1\t57081\t58081\r\n",
      "1\t58081\t59081\r\n",
      "1\t59081\t60081\r\n"
     ]
    }
   ],
   "source": [
    "!head /home/oryoruk/rt_mr_corr/data/formatted_regions_sites/non_coding_all_after_pruned.interval_sorted_chr1"
   ]
  },
  {
   "cell_type": "code",
   "execution_count": 16,
   "metadata": {
    "collapsed": false
   },
   "outputs": [
    {
     "name": "stdout",
     "output_type": "stream",
     "text": [
      "1\t249220145\t249221145\r\n",
      "1\t249221145\t249222145\r\n",
      "1\t249222145\t249223145\r\n",
      "1\t249223145\t249224145\r\n",
      "1\t249224145\t249225145\r\n",
      "1\t249225145\t249226145\r\n",
      "1\t249226145\t249227145\r\n",
      "1\t249227145\t249228145\r\n",
      "1\t249228145\t249229145\r\n",
      "1\t249229145\t249230145\r\n"
     ]
    }
   ],
   "source": [
    "!tail /home/oryoruk/rt_mr_corr/data/formatted_regions_sites/non_coding_all_after_pruned.interval_sorted_chr1"
   ]
  },
  {
   "cell_type": "markdown",
   "metadata": {},
   "source": [
    "# looks like it worked"
   ]
  },
  {
   "cell_type": "code",
   "execution_count": null,
   "metadata": {
    "collapsed": true
   },
   "outputs": [],
   "source": []
  }
 ],
 "metadata": {
  "kernelspec": {
   "display_name": "Python 2",
   "language": "python",
   "name": "python2"
  },
  "language_info": {
   "codemirror_mode": {
    "name": "ipython",
    "version": 2
   },
   "file_extension": ".py",
   "mimetype": "text/x-python",
   "name": "python",
   "nbconvert_exporter": "python",
   "pygments_lexer": "ipython2",
   "version": "2.7.13"
  }
 },
 "nbformat": 4,
 "nbformat_minor": 2
}
