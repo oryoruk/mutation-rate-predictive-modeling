{
 "cells": [
  {
   "cell_type": "code",
   "execution_count": 1,
   "metadata": {
    "collapsed": false
   },
   "outputs": [
    {
     "name": "stderr",
     "output_type": "stream",
     "text": [
      "/home/oryoruk/anaconda/lib/python2.7/site-packages/IPython/core/interactiveshell.py:2881: FutureWarning: \n",
      "mpl_style had been deprecated and will be removed in a future version.\n",
      "Use `matplotlib.pyplot.style.use` instead.\n",
      "\n",
      "  exec(code_obj, self.user_global_ns, self.user_ns)\n"
     ]
    }
   ],
   "source": [
    "import copy\n",
    "import csv\n",
    "import pandas as pd\n",
    "import numpy as np\n",
    "import scipy as scipy\n",
    "from scipy.stats import pearsonr\n",
    "import math\n",
    "import matplotlib\n",
    "import matplotlib.pyplot as plt\n",
    "#from matplotlib_venn import venn3, venn3_circles, venn2, venn2_circles\n",
    "import itertools\n",
    "from copy import deepcopy\n",
    "from collections import defaultdict\n",
    "from datetime import datetime\n",
    "import random\n",
    "pd.options.display.mpl_style = 'default'\n",
    "%matplotlib inline\n",
    "import pickle\n",
    "#%pylab inline\n",
    "import os\n",
    "import matplotlib.ticker as mtick\n",
    "from scipy.stats import chi2_contingency\n",
    "import re"
   ]
  },
  {
   "cell_type": "markdown",
   "metadata": {},
   "source": [
    "### 1. write code to read substitution rate dictionary pickles into dataframes"
   ]
  },
  {
   "cell_type": "markdown",
   "metadata": {},
   "source": [
    "do these things:\n",
    "\n",
    "1. write code to read substitution rate dictionary pickles into dataframes\n",
    "2. save rates (ref_count & sub_count for each context) into csv files for individual chromosomes\n",
    "3. collate all 7mer rates into genomewide rates and save into csv\n",
    "4. compare genome wide rates (with or without X chromosome?) to Varun's rates\n",
    "5. collate 7mer rates into 3mer rates for each chromosome and save\n",
    "6. collate all 3mer rates into genomewide rates and save into csv"
   ]
  },
  {
   "cell_type": "code",
   "execution_count": 100,
   "metadata": {
    "collapsed": false
   },
   "outputs": [
    {
     "name": "stdout",
     "output_type": "stream",
     "text": [
      "1   11\t13  15\t17  19\t20  22\t4  6  8  X\r\n",
      "10  12\t14  16\t18  2\t21  3\t5  7  9\r\n"
     ]
    }
   ],
   "source": [
    "!ls ./../../output/nc_7mer_sub_rates_per_chrom_1kgp3/"
   ]
  },
  {
   "cell_type": "code",
   "execution_count": 101,
   "metadata": {
    "collapsed": false
   },
   "outputs": [],
   "source": [
    "output_folder = './../../output/nc_7mer_sub_rates_per_chrom_1kgp3/'"
   ]
  },
  {
   "cell_type": "code",
   "execution_count": 102,
   "metadata": {
    "collapsed": true
   },
   "outputs": [],
   "source": [
    "def df_to_dct(df):\n",
    "    dct = {}\n",
    "    for i, row in df.iterrows():\n",
    "        dct[row.ref+row.alt] = [row.ref_count,row.sub_count]\n",
    "    return dct\n",
    "\n",
    "def dct_to_df(dct):\n",
    "    sub_rates_cols = ['ref','alt','ref_count','sub_count']\n",
    "    df = pd.DataFrame(columns = sub_rates_cols)\n",
    "    context_length = len(dct.keys()[0])/2\n",
    "    for key in dct:\n",
    "        df = df.append(pd.DataFrame([[key[:context_length],key[context_length:],dct[key][0],dct[key][1]]],columns=sub_rates_cols),ignore_index=True)  \n",
    "    return df"
   ]
  },
  {
   "cell_type": "code",
   "execution_count": 104,
   "metadata": {
    "collapsed": true
   },
   "outputs": [],
   "source": [
    "chrom = '22'"
   ]
  },
  {
   "cell_type": "raw",
   "metadata": {},
   "source": [
    "#initialize counts\n",
    "sub_rates_dct = {}\n",
    "#here are the substitutions and corresponding fold I am recording:\n",
    "subs   = ['CT','CA','CG','AT','AC','AG']\n",
    "#folds = ['GA','GT','GC','TA','TG','TC']\n",
    "nucs = list('GATC')\n",
    "for sub in subs:\n",
    "    for flanks in itertools.product(nucs,repeat = 6):\n",
    "        ref = ''.join(flanks[:3]) + sub[0] + ''.join(flanks[3:])\n",
    "        alt = ''.join(flanks[:3]) + sub[1] + ''.join(flanks[3:])\n",
    "        sub_rates_dct[ref+alt] = [0,0]\n",
    "for job_index in range(750):\n",
    "#for job_index in range(100):\n",
    "    #read in sub_rates_for_job_dct\n",
    "    with open(res_folder+str(job_index)) as fileObject:\n",
    "        sub_rates_for_job_dct = pickle.load(fileObject)\n",
    "        #for each key grab the ref counts and substi\n",
    "        for key in sub_rates_dct:\n",
    "            sub_rates_dct[key][0] += sub_rates_for_job_dct[key][0]\n",
    "            sub_rates_dct[key][1] += sub_rates_for_job_dct[key][1]        "
   ]
  },
  {
   "cell_type": "code",
   "execution_count": 105,
   "metadata": {
    "collapsed": false
   },
   "outputs": [],
   "source": [
    "with open(output_folder + chrom) as fileObject:\n",
    "    sub_rates_dct_chr22 = pickle.load(fileObject)\n",
    "sub_rates_chr22 = dct_to_df(sub_rates_dct_chr22)"
   ]
  },
  {
   "cell_type": "code",
   "execution_count": 106,
   "metadata": {
    "collapsed": false
   },
   "outputs": [
    {
     "data": {
      "text/html": [
       "<div>\n",
       "<style>\n",
       "    .dataframe thead tr:only-child th {\n",
       "        text-align: right;\n",
       "    }\n",
       "\n",
       "    .dataframe thead th {\n",
       "        text-align: left;\n",
       "    }\n",
       "\n",
       "    .dataframe tbody tr th {\n",
       "        vertical-align: top;\n",
       "    }\n",
       "</style>\n",
       "<table border=\"1\" class=\"dataframe\">\n",
       "  <thead>\n",
       "    <tr style=\"text-align: right;\">\n",
       "      <th></th>\n",
       "      <th>ref</th>\n",
       "      <th>alt</th>\n",
       "      <th>ref_count</th>\n",
       "      <th>sub_count</th>\n",
       "    </tr>\n",
       "  </thead>\n",
       "  <tbody>\n",
       "    <tr>\n",
       "      <th>0</th>\n",
       "      <td>CGACCGG</td>\n",
       "      <td>CGAACGG</td>\n",
       "      <td>51</td>\n",
       "      <td>0</td>\n",
       "    </tr>\n",
       "    <tr>\n",
       "      <th>1</th>\n",
       "      <td>GTGAGCG</td>\n",
       "      <td>GTGTGCG</td>\n",
       "      <td>428</td>\n",
       "      <td>0</td>\n",
       "    </tr>\n",
       "    <tr>\n",
       "      <th>2</th>\n",
       "      <td>TCAAAGA</td>\n",
       "      <td>TCACAGA</td>\n",
       "      <td>2026</td>\n",
       "      <td>2</td>\n",
       "    </tr>\n",
       "    <tr>\n",
       "      <th>3</th>\n",
       "      <td>ACCCCGT</td>\n",
       "      <td>ACCACGT</td>\n",
       "      <td>1674</td>\n",
       "      <td>6</td>\n",
       "    </tr>\n",
       "    <tr>\n",
       "      <th>4</th>\n",
       "      <td>CGACCTT</td>\n",
       "      <td>CGAGCTT</td>\n",
       "      <td>222</td>\n",
       "      <td>0</td>\n",
       "    </tr>\n",
       "  </tbody>\n",
       "</table>\n",
       "</div>"
      ],
      "text/plain": [
       "       ref      alt ref_count sub_count\n",
       "0  CGACCGG  CGAACGG        51         0\n",
       "1  GTGAGCG  GTGTGCG       428         0\n",
       "2  TCAAAGA  TCACAGA      2026         2\n",
       "3  ACCCCGT  ACCACGT      1674         6\n",
       "4  CGACCTT  CGAGCTT       222         0"
      ]
     },
     "execution_count": 106,
     "metadata": {},
     "output_type": "execute_result"
    }
   ],
   "source": [
    "sub_rates_chr22.head()"
   ]
  },
  {
   "cell_type": "code",
   "execution_count": 107,
   "metadata": {
    "collapsed": false
   },
   "outputs": [
    {
     "data": {
      "text/html": [
       "<div>\n",
       "<style>\n",
       "    .dataframe thead tr:only-child th {\n",
       "        text-align: right;\n",
       "    }\n",
       "\n",
       "    .dataframe thead th {\n",
       "        text-align: left;\n",
       "    }\n",
       "\n",
       "    .dataframe tbody tr th {\n",
       "        vertical-align: top;\n",
       "    }\n",
       "</style>\n",
       "<table border=\"1\" class=\"dataframe\">\n",
       "  <thead>\n",
       "    <tr style=\"text-align: right;\">\n",
       "      <th></th>\n",
       "      <th>ref</th>\n",
       "      <th>alt</th>\n",
       "      <th>ref_count</th>\n",
       "      <th>sub_count</th>\n",
       "    </tr>\n",
       "  </thead>\n",
       "  <tbody>\n",
       "    <tr>\n",
       "      <th>24571</th>\n",
       "      <td>TCCATAG</td>\n",
       "      <td>TCCGTAG</td>\n",
       "      <td>842</td>\n",
       "      <td>22</td>\n",
       "    </tr>\n",
       "    <tr>\n",
       "      <th>24572</th>\n",
       "      <td>AATCTAG</td>\n",
       "      <td>AATATAG</td>\n",
       "      <td>786</td>\n",
       "      <td>3</td>\n",
       "    </tr>\n",
       "    <tr>\n",
       "      <th>24573</th>\n",
       "      <td>CGCAGGG</td>\n",
       "      <td>CGCTGGG</td>\n",
       "      <td>668</td>\n",
       "      <td>0</td>\n",
       "    </tr>\n",
       "    <tr>\n",
       "      <th>24574</th>\n",
       "      <td>GAGCTAC</td>\n",
       "      <td>GAGGTAC</td>\n",
       "      <td>766</td>\n",
       "      <td>3</td>\n",
       "    </tr>\n",
       "    <tr>\n",
       "      <th>24575</th>\n",
       "      <td>ACGCACA</td>\n",
       "      <td>ACGTACA</td>\n",
       "      <td>546</td>\n",
       "      <td>4</td>\n",
       "    </tr>\n",
       "  </tbody>\n",
       "</table>\n",
       "</div>"
      ],
      "text/plain": [
       "           ref      alt ref_count sub_count\n",
       "24571  TCCATAG  TCCGTAG       842        22\n",
       "24572  AATCTAG  AATATAG       786         3\n",
       "24573  CGCAGGG  CGCTGGG       668         0\n",
       "24574  GAGCTAC  GAGGTAC       766         3\n",
       "24575  ACGCACA  ACGTACA       546         4"
      ]
     },
     "execution_count": 107,
     "metadata": {},
     "output_type": "execute_result"
    }
   ],
   "source": [
    "sub_rates_chr22.tail()"
   ]
  },
  {
   "cell_type": "code",
   "execution_count": 108,
   "metadata": {
    "collapsed": false
   },
   "outputs": [
    {
     "data": {
      "text/html": [
       "<div>\n",
       "<style>\n",
       "    .dataframe thead tr:only-child th {\n",
       "        text-align: right;\n",
       "    }\n",
       "\n",
       "    .dataframe thead th {\n",
       "        text-align: left;\n",
       "    }\n",
       "\n",
       "    .dataframe tbody tr th {\n",
       "        vertical-align: top;\n",
       "    }\n",
       "</style>\n",
       "<table border=\"1\" class=\"dataframe\">\n",
       "  <thead>\n",
       "    <tr style=\"text-align: right;\">\n",
       "      <th></th>\n",
       "      <th>ref</th>\n",
       "      <th>alt</th>\n",
       "      <th>ref_count</th>\n",
       "      <th>sub_count</th>\n",
       "    </tr>\n",
       "  </thead>\n",
       "  <tbody>\n",
       "    <tr>\n",
       "      <th>count</th>\n",
       "      <td>24576</td>\n",
       "      <td>24576</td>\n",
       "      <td>24576</td>\n",
       "      <td>24576</td>\n",
       "    </tr>\n",
       "    <tr>\n",
       "      <th>unique</th>\n",
       "      <td>8192</td>\n",
       "      <td>16384</td>\n",
       "      <td>3014</td>\n",
       "      <td>155</td>\n",
       "    </tr>\n",
       "    <tr>\n",
       "      <th>top</th>\n",
       "      <td>TGCACGG</td>\n",
       "      <td>GGAGACG</td>\n",
       "      <td>148</td>\n",
       "      <td>0</td>\n",
       "    </tr>\n",
       "    <tr>\n",
       "      <th>freq</th>\n",
       "      <td>3</td>\n",
       "      <td>2</td>\n",
       "      <td>51</td>\n",
       "      <td>4040</td>\n",
       "    </tr>\n",
       "  </tbody>\n",
       "</table>\n",
       "</div>"
      ],
      "text/plain": [
       "            ref      alt  ref_count  sub_count\n",
       "count     24576    24576      24576      24576\n",
       "unique     8192    16384       3014        155\n",
       "top     TGCACGG  GGAGACG        148          0\n",
       "freq          3        2         51       4040"
      ]
     },
     "execution_count": 108,
     "metadata": {},
     "output_type": "execute_result"
    }
   ],
   "source": [
    "sub_rates_chr22.describe()"
   ]
  },
  {
   "cell_type": "code",
   "execution_count": 109,
   "metadata": {
    "collapsed": false
   },
   "outputs": [
    {
     "data": {
      "text/plain": [
       "24576"
      ]
     },
     "execution_count": 109,
     "metadata": {},
     "output_type": "execute_result"
    }
   ],
   "source": [
    "len(sub_rates_chr22)"
   ]
  },
  {
   "cell_type": "markdown",
   "metadata": {
    "collapsed": true
   },
   "source": [
    "### 2. save rates (ref_count & sub_count for each context) into csv files for individual chromosomes"
   ]
  },
  {
   "cell_type": "code",
   "execution_count": 112,
   "metadata": {
    "collapsed": false
   },
   "outputs": [
    {
     "name": "stdout",
     "output_type": "stream",
     "text": [
      "chrom  1  is saved\n",
      "chrom  2  is saved\n",
      "chrom  3  is saved\n",
      "chrom  4  is saved\n",
      "chrom  5  is saved\n",
      "chrom  6  is saved\n",
      "chrom  7  is saved\n",
      "chrom  8  is saved\n",
      "chrom  9  is saved\n",
      "chrom  10  is saved\n",
      "chrom  11  is saved\n",
      "chrom  12  is saved\n",
      "chrom  13  is saved\n",
      "chrom  14  is saved\n",
      "chrom  15  is saved\n",
      "chrom  16  is saved\n",
      "chrom  17  is saved\n",
      "chrom  18  is saved\n",
      "chrom  19  is saved\n",
      "chrom  20  is saved\n",
      "chrom  21  is saved\n",
      "chrom  22  is saved\n",
      "chrom  X  is saved\n"
     ]
    }
   ],
   "source": [
    "for chrom in [\"1\",\"2\",\"3\",\"4\",\"5\",\"6\",\"7\",\"8\",\"9\",\"10\",\"11\",\"12\",\"13\",\"14\",\"15\",\"16\",\"17\",\"18\",\"19\",\"20\",\"21\",\"22\",\"X\"]:\n",
    "    with open(output_folder + chrom) as fileObject:\n",
    "        sub_rates_dct_chrom = pickle.load(fileObject)\n",
    "    sub_rates_chrom = dct_to_df(sub_rates_dct_chrom)\n",
    "    sub_rates_chrom.to_csv(output_folder+'chr'+chrom+'_7mer_counts.csv',sep='\\t',index=False,header=False)\n",
    "    print 'chrom ', chrom, ' is saved'"
   ]
  },
  {
   "cell_type": "markdown",
   "metadata": {
    "collapsed": true
   },
   "source": [
    "### 3. collate all 7mer rates into genomewide rates and save into csv#"
   ]
  },
  {
   "cell_type": "code",
   "execution_count": 113,
   "metadata": {
    "collapsed": true
   },
   "outputs": [],
   "source": [
    "#initialize counts\n",
    "sub_rates_dct = {}\n",
    "#here are the substitutions and corresponding fold I am recording:\n",
    "subs   = ['CT','CA','CG','AT','AC','AG']\n",
    "#folds = ['GA','GT','GC','TA','TG','TC']\n",
    "nucs = list('GATC')\n",
    "for sub in subs:\n",
    "    for flanks in itertools.product(nucs,repeat = 6):\n",
    "        ref = ''.join(flanks[:3]) + sub[0] + ''.join(flanks[3:])\n",
    "        alt = ''.join(flanks[:3]) + sub[1] + ''.join(flanks[3:])\n",
    "        sub_rates_dct[ref+alt] = [0,0]"
   ]
  },
  {
   "cell_type": "code",
   "execution_count": 114,
   "metadata": {
    "collapsed": false
   },
   "outputs": [
    {
     "data": {
      "text/plain": [
       "'./../../output/nc_7mer_sub_rates_per_chrom_1kgp3/'"
      ]
     },
     "execution_count": 114,
     "metadata": {},
     "output_type": "execute_result"
    }
   ],
   "source": [
    "output_folder"
   ]
  },
  {
   "cell_type": "code",
   "execution_count": 115,
   "metadata": {
    "collapsed": true
   },
   "outputs": [],
   "source": [
    "for chrom in [\"1\",\"2\",\"3\",\"4\",\"5\",\"6\",\"7\",\"8\",\"9\",\"10\",\"11\",\"12\",\"13\",\"14\",\"15\",\"16\",\"17\",\"18\",\"19\",\"20\",\"21\",\"22\"]:\n",
    "    with open(output_folder + chrom) as fileObject:\n",
    "            sub_rates_dct_chrom = pickle.load(fileObject)\n",
    "        for key in sub_rates_dct_chrom:\n",
    "            sub_rates_dct[key][0] += sub_rates_dct_chrom[key][0]\n",
    "            sub_rates_dct[key][1] += sub_rates_dct_chrom[key][1]\n",
    "sub_rates = dct_to_df(sub_rates_dct)\n",
    "sub_rates.to_csv(output_folder+'whole_autosome_7mer_counts.csv',sep='\\t',index=False,header=False)"
   ]
  },
  {
   "cell_type": "code",
   "execution_count": 116,
   "metadata": {
    "collapsed": true
   },
   "outputs": [],
   "source": [
    "for chrom in ['X']:\n",
    "    with open(output_folder + chrom) as fileObject:\n",
    "        sub_rates_dct_chrom = pickle.load(fileObject)\n",
    "        for key in sub_rates_dct_chrom:\n",
    "            sub_rates_dct[key][0] += sub_rates_dct_chrom[key][0]\n",
    "            sub_rates_dct[key][1] += sub_rates_dct_chrom[key][1]\n",
    "sub_rates = dct_to_df(sub_rates_dct)\n",
    "sub_rates.to_csv(output_folder+'whole_genome_7mer_counts.csv',sep='\\t',index=False,header=False)"
   ]
  },
  {
   "cell_type": "markdown",
   "metadata": {},
   "source": [
    "### 4. compare genome wide rates (with or without X chromosome?) to Varun's rates"
   ]
  },
  {
   "cell_type": "code",
   "execution_count": 187,
   "metadata": {
    "collapsed": false
   },
   "outputs": [],
   "source": [
    "sub_rates_autosomal = pd.read_csv('./../../output/nc_7mer_sub_rates_per_chrom_1kgp3/whole_autosome_7mer_counts.csv',sep='\\t',header=None,names=['ref','alt','ref_count','sub_count'])"
   ]
  },
  {
   "cell_type": "code",
   "execution_count": 188,
   "metadata": {
    "collapsed": false
   },
   "outputs": [
    {
     "data": {
      "text/html": [
       "<div>\n",
       "<style>\n",
       "    .dataframe thead tr:only-child th {\n",
       "        text-align: right;\n",
       "    }\n",
       "\n",
       "    .dataframe thead th {\n",
       "        text-align: left;\n",
       "    }\n",
       "\n",
       "    .dataframe tbody tr th {\n",
       "        vertical-align: top;\n",
       "    }\n",
       "</style>\n",
       "<table border=\"1\" class=\"dataframe\">\n",
       "  <thead>\n",
       "    <tr style=\"text-align: right;\">\n",
       "      <th></th>\n",
       "      <th>ref</th>\n",
       "      <th>alt</th>\n",
       "      <th>ref_count</th>\n",
       "      <th>sub_count</th>\n",
       "    </tr>\n",
       "  </thead>\n",
       "  <tbody>\n",
       "    <tr>\n",
       "      <th>0</th>\n",
       "      <td>CGACCGG</td>\n",
       "      <td>CGAACGG</td>\n",
       "      <td>2343</td>\n",
       "      <td>15</td>\n",
       "    </tr>\n",
       "    <tr>\n",
       "      <th>1</th>\n",
       "      <td>GTGAGCG</td>\n",
       "      <td>GTGTGCG</td>\n",
       "      <td>22189</td>\n",
       "      <td>24</td>\n",
       "    </tr>\n",
       "    <tr>\n",
       "      <th>2</th>\n",
       "      <td>TCAAAGA</td>\n",
       "      <td>TCACAGA</td>\n",
       "      <td>308436</td>\n",
       "      <td>403</td>\n",
       "    </tr>\n",
       "    <tr>\n",
       "      <th>3</th>\n",
       "      <td>TCGAAGC</td>\n",
       "      <td>TCGGAGC</td>\n",
       "      <td>12259</td>\n",
       "      <td>28</td>\n",
       "    </tr>\n",
       "    <tr>\n",
       "      <th>4</th>\n",
       "      <td>CGACCTT</td>\n",
       "      <td>CGAGCTT</td>\n",
       "      <td>16542</td>\n",
       "      <td>44</td>\n",
       "    </tr>\n",
       "    <tr>\n",
       "      <th>5</th>\n",
       "      <td>GTGATGG</td>\n",
       "      <td>GTGCTGG</td>\n",
       "      <td>171521</td>\n",
       "      <td>193</td>\n",
       "    </tr>\n",
       "    <tr>\n",
       "      <th>6</th>\n",
       "      <td>CGACGTC</td>\n",
       "      <td>CGAGGTC</td>\n",
       "      <td>2889</td>\n",
       "      <td>32</td>\n",
       "    </tr>\n",
       "    <tr>\n",
       "      <th>7</th>\n",
       "      <td>AGCCTCG</td>\n",
       "      <td>AGCTTCG</td>\n",
       "      <td>41089</td>\n",
       "      <td>390</td>\n",
       "    </tr>\n",
       "    <tr>\n",
       "      <th>8</th>\n",
       "      <td>TGAAAAA</td>\n",
       "      <td>TGAGAAA</td>\n",
       "      <td>606576</td>\n",
       "      <td>2863</td>\n",
       "    </tr>\n",
       "    <tr>\n",
       "      <th>9</th>\n",
       "      <td>AGCCCAT</td>\n",
       "      <td>AGCTCAT</td>\n",
       "      <td>129301</td>\n",
       "      <td>1090</td>\n",
       "    </tr>\n",
       "    <tr>\n",
       "      <th>10</th>\n",
       "      <td>ACAAGAG</td>\n",
       "      <td>ACATGAG</td>\n",
       "      <td>202362</td>\n",
       "      <td>233</td>\n",
       "    </tr>\n",
       "    <tr>\n",
       "      <th>11</th>\n",
       "      <td>TTCCGCA</td>\n",
       "      <td>TTCGGCA</td>\n",
       "      <td>17652</td>\n",
       "      <td>75</td>\n",
       "    </tr>\n",
       "    <tr>\n",
       "      <th>12</th>\n",
       "      <td>TACAATC</td>\n",
       "      <td>TACTATC</td>\n",
       "      <td>121640</td>\n",
       "      <td>274</td>\n",
       "    </tr>\n",
       "    <tr>\n",
       "      <th>13</th>\n",
       "      <td>CACATAT</td>\n",
       "      <td>CACCTAT</td>\n",
       "      <td>287011</td>\n",
       "      <td>587</td>\n",
       "    </tr>\n",
       "    <tr>\n",
       "      <th>14</th>\n",
       "      <td>TTACAAT</td>\n",
       "      <td>TTAAAAT</td>\n",
       "      <td>250601</td>\n",
       "      <td>1708</td>\n",
       "    </tr>\n",
       "    <tr>\n",
       "      <th>15</th>\n",
       "      <td>GAACGCC</td>\n",
       "      <td>GAATGCC</td>\n",
       "      <td>12338</td>\n",
       "      <td>2345</td>\n",
       "    </tr>\n",
       "    <tr>\n",
       "      <th>16</th>\n",
       "      <td>TGAACCG</td>\n",
       "      <td>TGAGCCG</td>\n",
       "      <td>17928</td>\n",
       "      <td>169</td>\n",
       "    </tr>\n",
       "    <tr>\n",
       "      <th>17</th>\n",
       "      <td>GCTCGTC</td>\n",
       "      <td>GCTGGTC</td>\n",
       "      <td>11051</td>\n",
       "      <td>140</td>\n",
       "    </tr>\n",
       "    <tr>\n",
       "      <th>18</th>\n",
       "      <td>GTTCGCA</td>\n",
       "      <td>GTTTGCA</td>\n",
       "      <td>8296</td>\n",
       "      <td>1097</td>\n",
       "    </tr>\n",
       "    <tr>\n",
       "      <th>19</th>\n",
       "      <td>TCCAAAT</td>\n",
       "      <td>TCCGAAT</td>\n",
       "      <td>276301</td>\n",
       "      <td>1105</td>\n",
       "    </tr>\n",
       "    <tr>\n",
       "      <th>20</th>\n",
       "      <td>TGCCTGT</td>\n",
       "      <td>TGCATGT</td>\n",
       "      <td>383052</td>\n",
       "      <td>624</td>\n",
       "    </tr>\n",
       "    <tr>\n",
       "      <th>21</th>\n",
       "      <td>TGCACAT</td>\n",
       "      <td>TGCTCAT</td>\n",
       "      <td>231579</td>\n",
       "      <td>436</td>\n",
       "    </tr>\n",
       "    <tr>\n",
       "      <th>22</th>\n",
       "      <td>ATGAGGG</td>\n",
       "      <td>ATGCGGG</td>\n",
       "      <td>142914</td>\n",
       "      <td>254</td>\n",
       "    </tr>\n",
       "    <tr>\n",
       "      <th>23</th>\n",
       "      <td>TTCCTTC</td>\n",
       "      <td>TTCGTTC</td>\n",
       "      <td>451531</td>\n",
       "      <td>645</td>\n",
       "    </tr>\n",
       "    <tr>\n",
       "      <th>24</th>\n",
       "      <td>CGACACT</td>\n",
       "      <td>CGAGACT</td>\n",
       "      <td>13745</td>\n",
       "      <td>45</td>\n",
       "    </tr>\n",
       "    <tr>\n",
       "      <th>25</th>\n",
       "      <td>ATGCAAT</td>\n",
       "      <td>ATGGAAT</td>\n",
       "      <td>202166</td>\n",
       "      <td>551</td>\n",
       "    </tr>\n",
       "    <tr>\n",
       "      <th>26</th>\n",
       "      <td>GTTCGTC</td>\n",
       "      <td>GTTTGTC</td>\n",
       "      <td>7747</td>\n",
       "      <td>830</td>\n",
       "    </tr>\n",
       "    <tr>\n",
       "      <th>27</th>\n",
       "      <td>CCGCGTA</td>\n",
       "      <td>CCGGGTA</td>\n",
       "      <td>1939</td>\n",
       "      <td>13</td>\n",
       "    </tr>\n",
       "    <tr>\n",
       "      <th>28</th>\n",
       "      <td>GCGATGG</td>\n",
       "      <td>GCGGTGG</td>\n",
       "      <td>20032</td>\n",
       "      <td>195</td>\n",
       "    </tr>\n",
       "    <tr>\n",
       "      <th>29</th>\n",
       "      <td>AGAACAA</td>\n",
       "      <td>AGACCAA</td>\n",
       "      <td>310407</td>\n",
       "      <td>465</td>\n",
       "    </tr>\n",
       "    <tr>\n",
       "      <th>...</th>\n",
       "      <td>...</td>\n",
       "      <td>...</td>\n",
       "      <td>...</td>\n",
       "      <td>...</td>\n",
       "    </tr>\n",
       "    <tr>\n",
       "      <th>24546</th>\n",
       "      <td>ACACTTT</td>\n",
       "      <td>ACATTTT</td>\n",
       "      <td>260526</td>\n",
       "      <td>3387</td>\n",
       "    </tr>\n",
       "    <tr>\n",
       "      <th>24547</th>\n",
       "      <td>CGAAGGC</td>\n",
       "      <td>CGACGGC</td>\n",
       "      <td>17538</td>\n",
       "      <td>39</td>\n",
       "    </tr>\n",
       "    <tr>\n",
       "      <th>24548</th>\n",
       "      <td>ACCCGAA</td>\n",
       "      <td>ACCTGAA</td>\n",
       "      <td>15581</td>\n",
       "      <td>1990</td>\n",
       "    </tr>\n",
       "    <tr>\n",
       "      <th>24549</th>\n",
       "      <td>ATGACGC</td>\n",
       "      <td>ATGCCGC</td>\n",
       "      <td>11730</td>\n",
       "      <td>16</td>\n",
       "    </tr>\n",
       "    <tr>\n",
       "      <th>24550</th>\n",
       "      <td>AGCCCCC</td>\n",
       "      <td>AGCACCC</td>\n",
       "      <td>103900</td>\n",
       "      <td>603</td>\n",
       "    </tr>\n",
       "    <tr>\n",
       "      <th>24551</th>\n",
       "      <td>AATACAA</td>\n",
       "      <td>AATCCAA</td>\n",
       "      <td>543658</td>\n",
       "      <td>535</td>\n",
       "    </tr>\n",
       "    <tr>\n",
       "      <th>24552</th>\n",
       "      <td>CTTCTTT</td>\n",
       "      <td>CTTTTTT</td>\n",
       "      <td>501209</td>\n",
       "      <td>3532</td>\n",
       "    </tr>\n",
       "    <tr>\n",
       "      <th>24553</th>\n",
       "      <td>CAACTGT</td>\n",
       "      <td>CAAGTGT</td>\n",
       "      <td>130060</td>\n",
       "      <td>456</td>\n",
       "    </tr>\n",
       "    <tr>\n",
       "      <th>24554</th>\n",
       "      <td>ATAACTC</td>\n",
       "      <td>ATATCTC</td>\n",
       "      <td>114022</td>\n",
       "      <td>342</td>\n",
       "    </tr>\n",
       "    <tr>\n",
       "      <th>24555</th>\n",
       "      <td>GTCAACC</td>\n",
       "      <td>GTCGACC</td>\n",
       "      <td>49617</td>\n",
       "      <td>166</td>\n",
       "    </tr>\n",
       "    <tr>\n",
       "      <th>24556</th>\n",
       "      <td>ATTATGT</td>\n",
       "      <td>ATTCTGT</td>\n",
       "      <td>278614</td>\n",
       "      <td>477</td>\n",
       "    </tr>\n",
       "    <tr>\n",
       "      <th>24557</th>\n",
       "      <td>CATAGCC</td>\n",
       "      <td>CATCGCC</td>\n",
       "      <td>82038</td>\n",
       "      <td>86</td>\n",
       "    </tr>\n",
       "    <tr>\n",
       "      <th>24558</th>\n",
       "      <td>GTGATTA</td>\n",
       "      <td>GTGCTTA</td>\n",
       "      <td>141904</td>\n",
       "      <td>133</td>\n",
       "    </tr>\n",
       "    <tr>\n",
       "      <th>24559</th>\n",
       "      <td>CGACCCT</td>\n",
       "      <td>CGATCCT</td>\n",
       "      <td>12903</td>\n",
       "      <td>141</td>\n",
       "    </tr>\n",
       "    <tr>\n",
       "      <th>24560</th>\n",
       "      <td>CATCGGC</td>\n",
       "      <td>CATTGGC</td>\n",
       "      <td>12786</td>\n",
       "      <td>1652</td>\n",
       "    </tr>\n",
       "    <tr>\n",
       "      <th>24561</th>\n",
       "      <td>TTTAGCC</td>\n",
       "      <td>TTTCGCC</td>\n",
       "      <td>122752</td>\n",
       "      <td>158</td>\n",
       "    </tr>\n",
       "    <tr>\n",
       "      <th>24562</th>\n",
       "      <td>CTGAGCC</td>\n",
       "      <td>CTGGGCC</td>\n",
       "      <td>178368</td>\n",
       "      <td>594</td>\n",
       "    </tr>\n",
       "    <tr>\n",
       "      <th>24563</th>\n",
       "      <td>TCGACGC</td>\n",
       "      <td>TCGTCGC</td>\n",
       "      <td>1466</td>\n",
       "      <td>2</td>\n",
       "    </tr>\n",
       "    <tr>\n",
       "      <th>24564</th>\n",
       "      <td>CTGCTCG</td>\n",
       "      <td>CTGGTCG</td>\n",
       "      <td>21293</td>\n",
       "      <td>46</td>\n",
       "    </tr>\n",
       "    <tr>\n",
       "      <th>24565</th>\n",
       "      <td>TAAATCC</td>\n",
       "      <td>TAAGTCC</td>\n",
       "      <td>144425</td>\n",
       "      <td>731</td>\n",
       "    </tr>\n",
       "    <tr>\n",
       "      <th>24566</th>\n",
       "      <td>TCCCGTT</td>\n",
       "      <td>TCCAGTT</td>\n",
       "      <td>21279</td>\n",
       "      <td>141</td>\n",
       "    </tr>\n",
       "    <tr>\n",
       "      <th>24567</th>\n",
       "      <td>CCTCTGC</td>\n",
       "      <td>CCTGTGC</td>\n",
       "      <td>291358</td>\n",
       "      <td>858</td>\n",
       "    </tr>\n",
       "    <tr>\n",
       "      <th>24568</th>\n",
       "      <td>CACAAGA</td>\n",
       "      <td>CACCAGA</td>\n",
       "      <td>185136</td>\n",
       "      <td>374</td>\n",
       "    </tr>\n",
       "    <tr>\n",
       "      <th>24569</th>\n",
       "      <td>ATACTAT</td>\n",
       "      <td>ATATTAT</td>\n",
       "      <td>204242</td>\n",
       "      <td>2502</td>\n",
       "    </tr>\n",
       "    <tr>\n",
       "      <th>24570</th>\n",
       "      <td>AATCACC</td>\n",
       "      <td>AATGACC</td>\n",
       "      <td>145091</td>\n",
       "      <td>194</td>\n",
       "    </tr>\n",
       "    <tr>\n",
       "      <th>24571</th>\n",
       "      <td>TCCATAG</td>\n",
       "      <td>TCCGTAG</td>\n",
       "      <td>114087</td>\n",
       "      <td>2406</td>\n",
       "    </tr>\n",
       "    <tr>\n",
       "      <th>24572</th>\n",
       "      <td>AATCTAG</td>\n",
       "      <td>AATATAG</td>\n",
       "      <td>143602</td>\n",
       "      <td>608</td>\n",
       "    </tr>\n",
       "    <tr>\n",
       "      <th>24573</th>\n",
       "      <td>CGCAGGG</td>\n",
       "      <td>CGCTGGG</td>\n",
       "      <td>25659</td>\n",
       "      <td>44</td>\n",
       "    </tr>\n",
       "    <tr>\n",
       "      <th>24574</th>\n",
       "      <td>GAGCTAC</td>\n",
       "      <td>GAGGTAC</td>\n",
       "      <td>77010</td>\n",
       "      <td>252</td>\n",
       "    </tr>\n",
       "    <tr>\n",
       "      <th>24575</th>\n",
       "      <td>ACGCACA</td>\n",
       "      <td>ACGTACA</td>\n",
       "      <td>33418</td>\n",
       "      <td>325</td>\n",
       "    </tr>\n",
       "  </tbody>\n",
       "</table>\n",
       "<p>24576 rows × 4 columns</p>\n",
       "</div>"
      ],
      "text/plain": [
       "           ref      alt  ref_count  sub_count\n",
       "0      CGACCGG  CGAACGG       2343         15\n",
       "1      GTGAGCG  GTGTGCG      22189         24\n",
       "2      TCAAAGA  TCACAGA     308436        403\n",
       "3      TCGAAGC  TCGGAGC      12259         28\n",
       "4      CGACCTT  CGAGCTT      16542         44\n",
       "5      GTGATGG  GTGCTGG     171521        193\n",
       "6      CGACGTC  CGAGGTC       2889         32\n",
       "7      AGCCTCG  AGCTTCG      41089        390\n",
       "8      TGAAAAA  TGAGAAA     606576       2863\n",
       "9      AGCCCAT  AGCTCAT     129301       1090\n",
       "10     ACAAGAG  ACATGAG     202362        233\n",
       "11     TTCCGCA  TTCGGCA      17652         75\n",
       "12     TACAATC  TACTATC     121640        274\n",
       "13     CACATAT  CACCTAT     287011        587\n",
       "14     TTACAAT  TTAAAAT     250601       1708\n",
       "15     GAACGCC  GAATGCC      12338       2345\n",
       "16     TGAACCG  TGAGCCG      17928        169\n",
       "17     GCTCGTC  GCTGGTC      11051        140\n",
       "18     GTTCGCA  GTTTGCA       8296       1097\n",
       "19     TCCAAAT  TCCGAAT     276301       1105\n",
       "20     TGCCTGT  TGCATGT     383052        624\n",
       "21     TGCACAT  TGCTCAT     231579        436\n",
       "22     ATGAGGG  ATGCGGG     142914        254\n",
       "23     TTCCTTC  TTCGTTC     451531        645\n",
       "24     CGACACT  CGAGACT      13745         45\n",
       "25     ATGCAAT  ATGGAAT     202166        551\n",
       "26     GTTCGTC  GTTTGTC       7747        830\n",
       "27     CCGCGTA  CCGGGTA       1939         13\n",
       "28     GCGATGG  GCGGTGG      20032        195\n",
       "29     AGAACAA  AGACCAA     310407        465\n",
       "...        ...      ...        ...        ...\n",
       "24546  ACACTTT  ACATTTT     260526       3387\n",
       "24547  CGAAGGC  CGACGGC      17538         39\n",
       "24548  ACCCGAA  ACCTGAA      15581       1990\n",
       "24549  ATGACGC  ATGCCGC      11730         16\n",
       "24550  AGCCCCC  AGCACCC     103900        603\n",
       "24551  AATACAA  AATCCAA     543658        535\n",
       "24552  CTTCTTT  CTTTTTT     501209       3532\n",
       "24553  CAACTGT  CAAGTGT     130060        456\n",
       "24554  ATAACTC  ATATCTC     114022        342\n",
       "24555  GTCAACC  GTCGACC      49617        166\n",
       "24556  ATTATGT  ATTCTGT     278614        477\n",
       "24557  CATAGCC  CATCGCC      82038         86\n",
       "24558  GTGATTA  GTGCTTA     141904        133\n",
       "24559  CGACCCT  CGATCCT      12903        141\n",
       "24560  CATCGGC  CATTGGC      12786       1652\n",
       "24561  TTTAGCC  TTTCGCC     122752        158\n",
       "24562  CTGAGCC  CTGGGCC     178368        594\n",
       "24563  TCGACGC  TCGTCGC       1466          2\n",
       "24564  CTGCTCG  CTGGTCG      21293         46\n",
       "24565  TAAATCC  TAAGTCC     144425        731\n",
       "24566  TCCCGTT  TCCAGTT      21279        141\n",
       "24567  CCTCTGC  CCTGTGC     291358        858\n",
       "24568  CACAAGA  CACCAGA     185136        374\n",
       "24569  ATACTAT  ATATTAT     204242       2502\n",
       "24570  AATCACC  AATGACC     145091        194\n",
       "24571  TCCATAG  TCCGTAG     114087       2406\n",
       "24572  AATCTAG  AATATAG     143602        608\n",
       "24573  CGCAGGG  CGCTGGG      25659         44\n",
       "24574  GAGCTAC  GAGGTAC      77010        252\n",
       "24575  ACGCACA  ACGTACA      33418        325\n",
       "\n",
       "[24576 rows x 4 columns]"
      ]
     },
     "execution_count": 188,
     "metadata": {},
     "output_type": "execute_result"
    }
   ],
   "source": [
    "sub_rates_autosomal"
   ]
  },
  {
   "cell_type": "code",
   "execution_count": 189,
   "metadata": {
    "collapsed": false
   },
   "outputs": [],
   "source": [
    "sub_rates_autosomal['rates'] = sub_rates_autosomal.sub_count / sub_rates_autosomal.ref_count"
   ]
  },
  {
   "cell_type": "code",
   "execution_count": 190,
   "metadata": {
    "collapsed": false
   },
   "outputs": [],
   "source": [
    "sub_rates_autosomal.rates = sub_rates_autosomal.rates.astype(float)"
   ]
  },
  {
   "cell_type": "code",
   "execution_count": 192,
   "metadata": {
    "collapsed": false
   },
   "outputs": [
    {
     "data": {
      "text/plain": [
       "count    24576.000000\n",
       "mean         0.010059\n",
       "std          0.026969\n",
       "min          0.000000\n",
       "25%          0.001859\n",
       "50%          0.003383\n",
       "75%          0.007167\n",
       "max          0.244166\n",
       "Name: rates, dtype: float64"
      ]
     },
     "execution_count": 192,
     "metadata": {},
     "output_type": "execute_result"
    }
   ],
   "source": [
    "sub_rates_autosomal.rates.describe()"
   ]
  },
  {
   "cell_type": "code",
   "execution_count": 193,
   "metadata": {
    "collapsed": false
   },
   "outputs": [
    {
     "name": "stdout",
     "output_type": "stream",
     "text": [
      "ng.3511-S2.xlsx\r\n"
     ]
    }
   ],
   "source": [
    "!ls ./../../data/aggarwala_voight_2016/"
   ]
  },
  {
   "cell_type": "code",
   "execution_count": 166,
   "metadata": {
    "collapsed": false
   },
   "outputs": [],
   "source": [
    "agg_sub_rates = pd.read_excel('./../../data/aggarwala_voight_2016/ng.3511-S2.xlsx', sheetname='Supplementary Table 7', header=0)"
   ]
  },
  {
   "cell_type": "code",
   "execution_count": 167,
   "metadata": {
    "collapsed": false
   },
   "outputs": [
    {
     "data": {
      "text/html": [
       "<div>\n",
       "<style>\n",
       "    .dataframe thead tr:only-child th {\n",
       "        text-align: right;\n",
       "    }\n",
       "\n",
       "    .dataframe thead th {\n",
       "        text-align: left;\n",
       "    }\n",
       "\n",
       "    .dataframe tbody tr th {\n",
       "        vertical-align: top;\n",
       "    }\n",
       "</style>\n",
       "<table border=\"1\" class=\"dataframe\">\n",
       "  <thead>\n",
       "    <tr style=\"text-align: right;\">\n",
       "      <th></th>\n",
       "      <th>Reference-sequences</th>\n",
       "      <th>Alternative-sequence</th>\n",
       "      <th>African autosomal substitution probability from reference to alternative</th>\n",
       "      <th>Asian autosomal substitution probability from reference to alternative</th>\n",
       "      <th>European autosomal substitution probability from reference to alternative</th>\n",
       "      <th>Reverse complement reference</th>\n",
       "      <th>Reverse complement alternative</th>\n",
       "    </tr>\n",
       "  </thead>\n",
       "  <tbody>\n",
       "    <tr>\n",
       "      <th>0</th>\n",
       "      <td>TCTATAC</td>\n",
       "      <td>TCTTTAC</td>\n",
       "      <td>0.001088</td>\n",
       "      <td>0.000626</td>\n",
       "      <td>0.000693</td>\n",
       "      <td>GTATAGA</td>\n",
       "      <td>GTAAAGA</td>\n",
       "    </tr>\n",
       "    <tr>\n",
       "      <th>1</th>\n",
       "      <td>GAGCTTA</td>\n",
       "      <td>GAGGTTA</td>\n",
       "      <td>0.001690</td>\n",
       "      <td>0.001138</td>\n",
       "      <td>0.001092</td>\n",
       "      <td>TAAGCTC</td>\n",
       "      <td>TAACCTC</td>\n",
       "    </tr>\n",
       "    <tr>\n",
       "      <th>2</th>\n",
       "      <td>CAACAAG</td>\n",
       "      <td>CAAAAAG</td>\n",
       "      <td>0.004224</td>\n",
       "      <td>0.002177</td>\n",
       "      <td>0.002568</td>\n",
       "      <td>CTTGTTG</td>\n",
       "      <td>CTTTTTG</td>\n",
       "    </tr>\n",
       "    <tr>\n",
       "      <th>3</th>\n",
       "      <td>TGTATGA</td>\n",
       "      <td>TGTTTGA</td>\n",
       "      <td>0.001655</td>\n",
       "      <td>0.000888</td>\n",
       "      <td>0.000919</td>\n",
       "      <td>TCATACA</td>\n",
       "      <td>TCAAACA</td>\n",
       "    </tr>\n",
       "    <tr>\n",
       "      <th>4</th>\n",
       "      <td>TTAACCA</td>\n",
       "      <td>TTACCCA</td>\n",
       "      <td>0.000990</td>\n",
       "      <td>0.000647</td>\n",
       "      <td>0.000784</td>\n",
       "      <td>TGGTTAA</td>\n",
       "      <td>TGGGTAA</td>\n",
       "    </tr>\n",
       "  </tbody>\n",
       "</table>\n",
       "</div>"
      ],
      "text/plain": [
       "  Reference-sequences Alternative-sequence  \\\n",
       "0             TCTATAC              TCTTTAC   \n",
       "1             GAGCTTA              GAGGTTA   \n",
       "2             CAACAAG              CAAAAAG   \n",
       "3             TGTATGA              TGTTTGA   \n",
       "4             TTAACCA              TTACCCA   \n",
       "\n",
       "   African autosomal substitution probability from reference to alternative  \\\n",
       "0                                           0.001088                          \n",
       "1                                           0.001690                          \n",
       "2                                           0.004224                          \n",
       "3                                           0.001655                          \n",
       "4                                           0.000990                          \n",
       "\n",
       "   Asian autosomal substitution probability from reference to alternative  \\\n",
       "0                                           0.000626                        \n",
       "1                                           0.001138                        \n",
       "2                                           0.002177                        \n",
       "3                                           0.000888                        \n",
       "4                                           0.000647                        \n",
       "\n",
       "   European autosomal substitution probability from reference to alternative  \\\n",
       "0                                           0.000693                           \n",
       "1                                           0.001092                           \n",
       "2                                           0.002568                           \n",
       "3                                           0.000919                           \n",
       "4                                           0.000784                           \n",
       "\n",
       "  Reverse complement reference Reverse complement alternative  \n",
       "0                      GTATAGA                        GTAAAGA  \n",
       "1                      TAAGCTC                        TAACCTC  \n",
       "2                      CTTGTTG                        CTTTTTG  \n",
       "3                      TCATACA                        TCAAACA  \n",
       "4                      TGGTTAA                        TGGGTAA  "
      ]
     },
     "execution_count": 167,
     "metadata": {},
     "output_type": "execute_result"
    }
   ],
   "source": [
    "agg_sub_rates.head()"
   ]
  },
  {
   "cell_type": "code",
   "execution_count": 170,
   "metadata": {
    "collapsed": false
   },
   "outputs": [
    {
     "data": {
      "text/plain": [
       "count    24576.000000\n",
       "mean         0.006555\n",
       "std          0.017500\n",
       "min          0.000165\n",
       "25%          0.001192\n",
       "50%          0.002160\n",
       "75%          0.004828\n",
       "max          0.162509\n",
       "Name: African autosomal substitution probability from reference to alternative, dtype: float64"
      ]
     },
     "execution_count": 170,
     "metadata": {},
     "output_type": "execute_result"
    }
   ],
   "source": [
    "agg_sub_rates['African autosomal substitution probability from reference to alternative'].describe()"
   ]
  },
  {
   "cell_type": "code",
   "execution_count": 194,
   "metadata": {
    "collapsed": true
   },
   "outputs": [],
   "source": [
    "agg_sub_rates.drop('Asian autosomal substitution probability from reference to alternative',axis=1,inplace=True)"
   ]
  },
  {
   "cell_type": "code",
   "execution_count": 195,
   "metadata": {
    "collapsed": true
   },
   "outputs": [],
   "source": [
    "agg_sub_rates.drop('European autosomal substitution probability from reference to alternative',axis=1,inplace=True)"
   ]
  },
  {
   "cell_type": "code",
   "execution_count": 196,
   "metadata": {
    "collapsed": true
   },
   "outputs": [],
   "source": [
    "agg_sub_rates.drop('Reverse complement reference',axis=1,inplace=True)"
   ]
  },
  {
   "cell_type": "code",
   "execution_count": 197,
   "metadata": {
    "collapsed": true
   },
   "outputs": [],
   "source": [
    "agg_sub_rates.drop('Reverse complement alternative',axis=1,inplace=True)"
   ]
  },
  {
   "cell_type": "code",
   "execution_count": 198,
   "metadata": {
    "collapsed": true
   },
   "outputs": [],
   "source": [
    "agg_sub_rates.rename(columns={'Reference-sequences':'ref','Alternative-sequence':'alt','African autosomal substitution probability from reference to alternative':'rates'}, inplace=True)"
   ]
  },
  {
   "cell_type": "code",
   "execution_count": 199,
   "metadata": {
    "collapsed": false
   },
   "outputs": [
    {
     "data": {
      "text/html": [
       "<div>\n",
       "<style>\n",
       "    .dataframe thead tr:only-child th {\n",
       "        text-align: right;\n",
       "    }\n",
       "\n",
       "    .dataframe thead th {\n",
       "        text-align: left;\n",
       "    }\n",
       "\n",
       "    .dataframe tbody tr th {\n",
       "        vertical-align: top;\n",
       "    }\n",
       "</style>\n",
       "<table border=\"1\" class=\"dataframe\">\n",
       "  <thead>\n",
       "    <tr style=\"text-align: right;\">\n",
       "      <th></th>\n",
       "      <th>ref</th>\n",
       "      <th>alt</th>\n",
       "      <th>rates</th>\n",
       "    </tr>\n",
       "  </thead>\n",
       "  <tbody>\n",
       "    <tr>\n",
       "      <th>0</th>\n",
       "      <td>TCTATAC</td>\n",
       "      <td>TCTTTAC</td>\n",
       "      <td>0.001088</td>\n",
       "    </tr>\n",
       "    <tr>\n",
       "      <th>1</th>\n",
       "      <td>GAGCTTA</td>\n",
       "      <td>GAGGTTA</td>\n",
       "      <td>0.001690</td>\n",
       "    </tr>\n",
       "    <tr>\n",
       "      <th>2</th>\n",
       "      <td>CAACAAG</td>\n",
       "      <td>CAAAAAG</td>\n",
       "      <td>0.004224</td>\n",
       "    </tr>\n",
       "    <tr>\n",
       "      <th>3</th>\n",
       "      <td>TGTATGA</td>\n",
       "      <td>TGTTTGA</td>\n",
       "      <td>0.001655</td>\n",
       "    </tr>\n",
       "    <tr>\n",
       "      <th>4</th>\n",
       "      <td>TTAACCA</td>\n",
       "      <td>TTACCCA</td>\n",
       "      <td>0.000990</td>\n",
       "    </tr>\n",
       "  </tbody>\n",
       "</table>\n",
       "</div>"
      ],
      "text/plain": [
       "       ref      alt     rates\n",
       "0  TCTATAC  TCTTTAC  0.001088\n",
       "1  GAGCTTA  GAGGTTA  0.001690\n",
       "2  CAACAAG  CAAAAAG  0.004224\n",
       "3  TGTATGA  TGTTTGA  0.001655\n",
       "4  TTAACCA  TTACCCA  0.000990"
      ]
     },
     "execution_count": 199,
     "metadata": {},
     "output_type": "execute_result"
    }
   ],
   "source": [
    "agg_sub_rates.head()"
   ]
  },
  {
   "cell_type": "code",
   "execution_count": 204,
   "metadata": {
    "collapsed": false
   },
   "outputs": [
    {
     "data": {
      "text/plain": [
       "24576"
      ]
     },
     "execution_count": 204,
     "metadata": {},
     "output_type": "execute_result"
    }
   ],
   "source": [
    "for key in sub_rates_7mer_dct_chrom.keys():\n",
    "    alt, ref = key[:7], key[7:]\n",
    "    "
   ]
  },
  {
   "cell_type": "code",
   "execution_count": 206,
   "metadata": {
    "collapsed": false
   },
   "outputs": [
    {
     "data": {
      "text/html": [
       "<div>\n",
       "<style>\n",
       "    .dataframe thead tr:only-child th {\n",
       "        text-align: right;\n",
       "    }\n",
       "\n",
       "    .dataframe thead th {\n",
       "        text-align: left;\n",
       "    }\n",
       "\n",
       "    .dataframe tbody tr th {\n",
       "        vertical-align: top;\n",
       "    }\n",
       "</style>\n",
       "<table border=\"1\" class=\"dataframe\">\n",
       "  <thead>\n",
       "    <tr style=\"text-align: right;\">\n",
       "      <th></th>\n",
       "      <th>ref</th>\n",
       "      <th>alt</th>\n",
       "      <th>ref_count</th>\n",
       "      <th>sub_count</th>\n",
       "      <th>rates</th>\n",
       "    </tr>\n",
       "  </thead>\n",
       "  <tbody>\n",
       "    <tr>\n",
       "      <th>11576</th>\n",
       "      <td>TCTATAC</td>\n",
       "      <td>TCTTTAC</td>\n",
       "      <td>103802</td>\n",
       "      <td>169</td>\n",
       "      <td>0.001628</td>\n",
       "    </tr>\n",
       "    <tr>\n",
       "      <th>14941</th>\n",
       "      <td>TCTCTAC</td>\n",
       "      <td>TCTTTAC</td>\n",
       "      <td>371751</td>\n",
       "      <td>2504</td>\n",
       "      <td>0.006736</td>\n",
       "    </tr>\n",
       "  </tbody>\n",
       "</table>\n",
       "</div>"
      ],
      "text/plain": [
       "           ref      alt  ref_count  sub_count     rates\n",
       "11576  TCTATAC  TCTTTAC     103802        169  0.001628\n",
       "14941  TCTCTAC  TCTTTAC     371751       2504  0.006736"
      ]
     },
     "execution_count": 206,
     "metadata": {},
     "output_type": "execute_result"
    }
   ],
   "source": [
    "sub_rates_autosomal[sub_rates_autosomal.alt=='TCTTTAC']"
   ]
  },
  {
   "cell_type": "code",
   "execution_count": 207,
   "metadata": {
    "collapsed": false
   },
   "outputs": [
    {
     "data": {
      "text/html": [
       "<div>\n",
       "<style>\n",
       "    .dataframe thead tr:only-child th {\n",
       "        text-align: right;\n",
       "    }\n",
       "\n",
       "    .dataframe thead th {\n",
       "        text-align: left;\n",
       "    }\n",
       "\n",
       "    .dataframe tbody tr th {\n",
       "        vertical-align: top;\n",
       "    }\n",
       "</style>\n",
       "<table border=\"1\" class=\"dataframe\">\n",
       "  <thead>\n",
       "    <tr style=\"text-align: right;\">\n",
       "      <th></th>\n",
       "      <th>ref</th>\n",
       "      <th>alt</th>\n",
       "      <th>ref_count</th>\n",
       "      <th>sub_count</th>\n",
       "      <th>rates</th>\n",
       "    </tr>\n",
       "  </thead>\n",
       "  <tbody>\n",
       "  </tbody>\n",
       "</table>\n",
       "</div>"
      ],
      "text/plain": [
       "Empty DataFrame\n",
       "Columns: [ref, alt, ref_count, sub_count, rates]\n",
       "Index: []"
      ]
     },
     "execution_count": 207,
     "metadata": {},
     "output_type": "execute_result"
    }
   ],
   "source": [
    "sub_rates_autosomal[sub_rates_autosomal.ref=='TCTGTAC']"
   ]
  },
  {
   "cell_type": "code",
   "execution_count": 210,
   "metadata": {
    "collapsed": false
   },
   "outputs": [
    {
     "data": {
      "text/html": [
       "<div>\n",
       "<style>\n",
       "    .dataframe thead tr:only-child th {\n",
       "        text-align: right;\n",
       "    }\n",
       "\n",
       "    .dataframe thead th {\n",
       "        text-align: left;\n",
       "    }\n",
       "\n",
       "    .dataframe tbody tr th {\n",
       "        vertical-align: top;\n",
       "    }\n",
       "</style>\n",
       "<table border=\"1\" class=\"dataframe\">\n",
       "  <thead>\n",
       "    <tr style=\"text-align: right;\">\n",
       "      <th></th>\n",
       "      <th>ref</th>\n",
       "      <th>alt</th>\n",
       "      <th>ref_count</th>\n",
       "      <th>sub_count</th>\n",
       "      <th>rates</th>\n",
       "    </tr>\n",
       "  </thead>\n",
       "  <tbody>\n",
       "    <tr>\n",
       "      <th>1246</th>\n",
       "      <td>AAACAAA</td>\n",
       "      <td>AAAGAAA</td>\n",
       "      <td>997981</td>\n",
       "      <td>3995</td>\n",
       "      <td>0.004003</td>\n",
       "    </tr>\n",
       "    <tr>\n",
       "      <th>1555</th>\n",
       "      <td>AAACAAA</td>\n",
       "      <td>AAATAAA</td>\n",
       "      <td>997981</td>\n",
       "      <td>7590</td>\n",
       "      <td>0.007605</td>\n",
       "    </tr>\n",
       "    <tr>\n",
       "      <th>14790</th>\n",
       "      <td>AAACAAA</td>\n",
       "      <td>AAAAAAA</td>\n",
       "      <td>997981</td>\n",
       "      <td>11674</td>\n",
       "      <td>0.011698</td>\n",
       "    </tr>\n",
       "  </tbody>\n",
       "</table>\n",
       "</div>"
      ],
      "text/plain": [
       "           ref      alt  ref_count  sub_count     rates\n",
       "1246   AAACAAA  AAAGAAA     997981       3995  0.004003\n",
       "1555   AAACAAA  AAATAAA     997981       7590  0.007605\n",
       "14790  AAACAAA  AAAAAAA     997981      11674  0.011698"
      ]
     },
     "execution_count": 210,
     "metadata": {},
     "output_type": "execute_result"
    }
   ],
   "source": [
    "sub_rates_autosomal[sub_rates_autosomal.ref=='AAACAAA'].rates"
   ]
  },
  {
   "cell_type": "code",
   "execution_count": 208,
   "metadata": {
    "collapsed": false
   },
   "outputs": [
    {
     "data": {
      "text/plain": [
       "24576"
      ]
     },
     "execution_count": 208,
     "metadata": {},
     "output_type": "execute_result"
    }
   ],
   "source": [
    "len(sub_rates_autosomal)"
   ]
  },
  {
   "cell_type": "code",
   "execution_count": 215,
   "metadata": {
    "collapsed": false
   },
   "outputs": [
    {
     "data": {
      "text/plain": [
       "0.004003082223008254"
      ]
     },
     "execution_count": 215,
     "metadata": {},
     "output_type": "execute_result"
    }
   ],
   "source": [
    "sub_rates_autosomal[(sub_rates_autosomal.ref == 'AAACAAA')&(sub_rates_autosomal.alt == 'AAAGAAA')].rates.iloc[0]"
   ]
  },
  {
   "cell_type": "code",
   "execution_count": 217,
   "metadata": {
    "collapsed": false
   },
   "outputs": [],
   "source": [
    "my_cpg_ct_rates = []\n",
    "varuns_cpg_ct_rates = []\n",
    "for key in sub_rates_7mer_dct_chrom.keys():\n",
    "    ref, alt = key[:7], key[7:]\n",
    "    my_cpg_ct_rates.append(sub_rates_autosomal[(sub_rates_autosomal.ref == ref)&(sub_rates_autosomal.alt == alt)].rates.iloc[0])\n",
    "    varuns_cpg_ct_rates.append(agg_sub_rates[(agg_sub_rates.ref == ref)&(agg_sub_rates.alt == alt)].rates.iloc[0])"
   ]
  },
  {
   "cell_type": "code",
   "execution_count": 223,
   "metadata": {
    "collapsed": false
   },
   "outputs": [
    {
     "data": {
      "image/png": "[encoded data removed]",
      "text/plain": [
       "<matplotlib.figure.Figure at 0x2b1f8c3b4c50>"
      ]
     },
     "metadata": {},
     "output_type": "display_data"
    }
   ],
   "source": [
    "plt.rcParams['figure.figsize'] = 20, 20\n",
    "plt.rcParams['savefig.dpi'] = 50\n",
    "s = [4*2**4]\n",
    "colors = ['#5C85D6','#cf5f75']\n",
    "#s1_dots = \n",
    "plt.scatter(my_cpg_ct_rates,varuns_cpg_ct_rates, s=s, color = colors[0], alpha = 0.6)\n",
    "plt.plot([0.0,0.12],[0.0,0.12])\n",
    "#plt.xlim([0,0.12])\n",
    "#plt.ylim([0,0.12])\n",
    "\n",
    "plt.xlabel('mine', fontsize=40)\n",
    "plt.ylabel('varuns', fontsize=40)\n",
    "plt.tick_params(axis='x', labelsize=25)\n",
    "plt.tick_params(axis='y', labelsize=25)\n",
    "#s4_dots = plt.scatter(subs_s4,counts_s4, s=s, color = colors[1], alpha = 1)\n",
    "#plt.legend((s1_dots,s4_dots),(\"S1\",\"S4\"), scatterpoints=1,fontsize=20)\n",
    "plt.show()"
   ]
  },
  {
   "cell_type": "code",
   "execution_count": 218,
   "metadata": {
    "collapsed": false
   },
   "outputs": [
    {
     "data": {
      "text/plain": [
       "(0.99838506913915392, 0.0)"
      ]
     },
     "execution_count": 218,
     "metadata": {},
     "output_type": "execute_result"
    }
   ],
   "source": [
    "scipy.stats.pearsonr(varuns_cpg_ct_rates,my_cpg_ct_rates)"
   ]
  },
  {
   "cell_type": "markdown",
   "metadata": {},
   "source": [
    "### looks god to me!"
   ]
  },
  {
   "cell_type": "markdown",
   "metadata": {},
   "source": [
    "### 5. collate 7mer rates into 3mer rates for each chromosome and save"
   ]
  },
  {
   "cell_type": "code",
   "execution_count": 123,
   "metadata": {
    "collapsed": true
   },
   "outputs": [],
   "source": [
    "def empty_sub_rates_3mer_dct():\n",
    "    #initialize counts\n",
    "    sub_rates_3mer_dct = {}\n",
    "    #here are the substitutions and corresponding fold I am recording:\n",
    "    subs   = ['CT','CA','CG','AT','AC','AG']\n",
    "    #folds = ['GA','GT','GC','TA','TG','TC']\n",
    "    nucs = list('GATC')\n",
    "    for sub in subs:\n",
    "        for flanks in itertools.product(nucs,repeat = 2):\n",
    "            ref = ''.join(flanks[:1]) + sub[0] + ''.join(flanks[1:])\n",
    "            alt = ''.join(flanks[:1]) + sub[1] + ''.join(flanks[1:])\n",
    "            sub_rates_3mer_dct[ref+alt] = [0,0]\n",
    "    return sub_rates_3mer_dct"
   ]
  },
  {
   "cell_type": "markdown",
   "metadata": {},
   "source": [
    "will do 5 and 6 together below"
   ]
  },
  {
   "cell_type": "markdown",
   "metadata": {},
   "source": [
    "### 6. collate all 3mer rates into genomewide rates and save into csv"
   ]
  },
  {
   "cell_type": "code",
   "execution_count": 126,
   "metadata": {
    "collapsed": false
   },
   "outputs": [
    {
     "name": "stdout",
     "output_type": "stream",
     "text": [
      "chrom  1  is saved\n",
      "chrom  2  is saved\n",
      "chrom  3  is saved\n",
      "chrom  4  is saved\n",
      "chrom  5  is saved\n",
      "chrom  6  is saved\n",
      "chrom  7  is saved\n",
      "chrom  8  is saved\n",
      "chrom  9  is saved\n",
      "chrom  10  is saved\n",
      "chrom  11  is saved\n",
      "chrom  12  is saved\n",
      "chrom  13  is saved\n",
      "chrom  14  is saved\n",
      "chrom  15  is saved\n",
      "chrom  16  is saved\n",
      "chrom  17  is saved\n",
      "chrom  18  is saved\n",
      "chrom  19  is saved\n",
      "chrom  20  is saved\n",
      "chrom  21  is saved\n",
      "chrom  22  is saved\n",
      "autosome counts saved\n",
      "chrom  X  is saved\n",
      "genome counts saved\n"
     ]
    }
   ],
   "source": [
    "sub_rates_3mer_dct = empty_sub_rates_3mer_dct()\n",
    "for chrom in [\"1\",\"2\",\"3\",\"4\",\"5\",\"6\",\"7\",\"8\",\"9\",\"10\",\"11\",\"12\",\"13\",\"14\",\"15\",\"16\",\"17\",\"18\",\"19\",\"20\",\"21\",\"22\"]:\n",
    "    with open(output_folder + chrom) as fileObject:\n",
    "        sub_rates_7mer_dct_chrom = pickle.load(fileObject)\n",
    "        sub_rates_3mer_dct_chrom = empty_sub_rates_3mer_dct()\n",
    "        for key in sub_rates_7mer_dct_chrom:\n",
    "            alt = key[2:5]\n",
    "            ref = key[9:12]\n",
    "            sub_rates_3mer_dct_chrom[alt+ref][0]+=sub_rates_7mer_dct_chrom[key][0]\n",
    "            sub_rates_3mer_dct_chrom[alt+ref][1]+=sub_rates_7mer_dct_chrom[key][1]        \n",
    "        for key in sub_rates_3mer_dct_chrom:\n",
    "            sub_rates_3mer_dct[key][0] += sub_rates_3mer_dct_chrom[key][0]\n",
    "            sub_rates_3mer_dct[key][1] += sub_rates_3mer_dct_chrom[key][1]\n",
    "    sub_rates_3mer_chrom = dct_to_df(sub_rates_3mer_dct_chrom)\n",
    "    sub_rates_3mer_chrom.to_csv(output_folder+'chr'+chrom+'_3mer_counts.csv',sep='\\t',index=False,header=False)\n",
    "    print 'chrom ', chrom, ' is saved'     \n",
    "sub_rates_3mer = dct_to_df(sub_rates_3mer_dct)\n",
    "sub_rates_3mer.to_csv(output_folder+'whole_autosome_3mer_counts.csv',sep='\\t',index=False,header=False)\n",
    "print 'autosome counts saved'\n",
    "for chrom in ['X']:\n",
    "    with open(output_folder + chrom) as fileObject:\n",
    "        sub_rates_7mer_dct_chrom = pickle.load(fileObject)\n",
    "        sub_rates_3mer_dct_chrom = empty_sub_rates_3mer_dct()\n",
    "        for key in sub_rates_7mer_dct_chrom:\n",
    "            alt = key[2:5]\n",
    "            ref = key[9:12]\n",
    "            sub_rates_3mer_dct_chrom[alt+ref][0]+=sub_rates_7mer_dct_chrom[key][0]\n",
    "            sub_rates_3mer_dct_chrom[alt+ref][1]+=sub_rates_7mer_dct_chrom[key][1]        \n",
    "        for key in sub_rates_3mer_dct_chrom:\n",
    "            sub_rates_3mer_dct[key][0] += sub_rates_3mer_dct_chrom[key][0]\n",
    "            sub_rates_3mer_dct[key][1] += sub_rates_3mer_dct_chrom[key][1]\n",
    "    sub_rates_3mer_chrom = dct_to_df(sub_rates_3mer_dct_chrom)\n",
    "    sub_rates_3mer_chrom.to_csv(output_folder+'chr'+chrom+'_3mer_counts.csv',sep='\\t',index=False,header=False)\n",
    "    print 'chrom ', chrom, ' is saved'     \n",
    "sub_rates_3mer = dct_to_df(sub_rates_3mer_dct)\n",
    "sub_rates_3mer.to_csv(output_folder+'whole_genome_3mer_counts.csv',sep='\\t',index=False,header=False)\n",
    "print 'genome counts saved'"
   ]
  },
  {
   "cell_type": "code",
   "execution_count": 125,
   "metadata": {
    "collapsed": false
   },
   "outputs": [
    {
     "data": {
      "text/plain": [
       "24576"
      ]
     },
     "execution_count": 125,
     "metadata": {},
     "output_type": "execute_result"
    }
   ],
   "source": [
    "len(sub_rates)"
   ]
  },
  {
   "cell_type": "code",
   "execution_count": 127,
   "metadata": {
    "collapsed": false
   },
   "outputs": [
    {
     "data": {
      "text/plain": [
       "96"
      ]
     },
     "execution_count": 127,
     "metadata": {},
     "output_type": "execute_result"
    }
   ],
   "source": [
    "len(sub_rates_3mer)"
   ]
  },
  {
   "cell_type": "code",
   "execution_count": 129,
   "metadata": {
    "collapsed": false
   },
   "outputs": [
    {
     "data": {
      "text/plain": [
       "3600087834"
      ]
     },
     "execution_count": 129,
     "metadata": {},
     "output_type": "execute_result"
    }
   ],
   "source": [
    "sum(sub_rates.ref_count)"
   ]
  },
  {
   "cell_type": "code",
   "execution_count": 132,
   "metadata": {
    "collapsed": false
   },
   "outputs": [
    {
     "data": {
      "text/plain": [
       "17863012"
      ]
     },
     "execution_count": 132,
     "metadata": {},
     "output_type": "execute_result"
    }
   ],
   "source": [
    "sum(sub_rates.sub_count)"
   ]
  },
  {
   "cell_type": "code",
   "execution_count": 134,
   "metadata": {
    "collapsed": false
   },
   "outputs": [
    {
     "data": {
      "text/plain": [
       "3600087834"
      ]
     },
     "execution_count": 134,
     "metadata": {},
     "output_type": "execute_result"
    }
   ],
   "source": [
    "sum(sub_rates_3mer.ref_count)"
   ]
  },
  {
   "cell_type": "code",
   "execution_count": 135,
   "metadata": {
    "collapsed": false
   },
   "outputs": [
    {
     "data": {
      "text/plain": [
       "17863012"
      ]
     },
     "execution_count": 135,
     "metadata": {},
     "output_type": "execute_result"
    }
   ],
   "source": [
    "sum(sub_rates_3mer.sub_count)"
   ]
  }
 ],
 "metadata": {
  "kernelspec": {
   "display_name": "Python 2",
   "language": "python",
   "name": "python2"
  },
  "language_info": {
   "codemirror_mode": {
    "name": "ipython",
    "version": 2
   },
   "file_extension": ".py",
   "mimetype": "text/x-python",
   "name": "python",
   "nbconvert_exporter": "python",
   "pygments_lexer": "ipython2",
   "version": "2.7.13"
  }
 },
 "nbformat": 4,
 "nbformat_minor": 2
}
