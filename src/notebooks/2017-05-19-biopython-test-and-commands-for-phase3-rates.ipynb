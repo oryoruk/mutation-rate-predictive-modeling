{
 "cells": [
  {
   "cell_type": "code",
   "execution_count": 1,
   "metadata": {
    "collapsed": true
   },
   "outputs": [],
   "source": [
    "import copy\n",
    "import csv\n",
    "import pandas as pd\n",
    "import numpy as np\n",
    "import scipy as scipy\n",
    "from scipy.stats import pearsonr\n",
    "import math\n",
    "import matplotlib\n",
    "import matplotlib.pyplot as plt\n",
    "#from matplotlib_venn import venn3, venn3_circles, venn2, venn2_circles\n",
    "import itertools\n",
    "from copy import deepcopy\n",
    "from collections import defaultdict\n",
    "from datetime import datetime\n",
    "import random\n",
    "pd.options.display.mpl_style = 'default'\n",
    "%matplotlib inline\n",
    "import pickle\n",
    "#%pylab inline\n",
    "import os\n",
    "import matplotlib.ticker as mtick\n",
    "from scipy.stats import chi2_contingency\n",
    "import re"
   ]
  },
  {
   "cell_type": "code",
   "execution_count": 39,
   "metadata": {
    "collapsed": false
   },
   "outputs": [],
   "source": [
    "from Bio import SeqIO"
   ]
  },
  {
   "cell_type": "code",
   "execution_count": 40,
   "metadata": {
    "collapsed": false
   },
   "outputs": [
    {
     "name": "stdout",
     "output_type": "stream",
     "text": [
      "chr1\n"
     ]
    }
   ],
   "source": [
    "for record in SeqIO.parse('/project/voight_datasets/hg19/chr1.fa', \"fasta\"):\n",
    "    print record.id"
   ]
  },
  {
   "cell_type": "code",
   "execution_count": 41,
   "metadata": {
    "collapsed": false
   },
   "outputs": [
    {
     "data": {
      "text/plain": [
       "'NNNNNNNNNN'"
      ]
     },
     "execution_count": 41,
     "metadata": {},
     "output_type": "execute_result"
    }
   ],
   "source": [
    "str(record.seq)[:10]"
   ]
  },
  {
   "cell_type": "code",
   "execution_count": 5,
   "metadata": {
    "collapsed": false
   },
   "outputs": [],
   "source": [
    "import sys\n",
    "sys.path.append('/home/oryoruk/aggarwala_voight_2016_code_data/substitution_rate_paper_code_and_data/helper_code/')\n",
    "from modules import *\n",
    "from function_wrapper import *"
   ]
  },
  {
   "cell_type": "code",
   "execution_count": 6,
   "metadata": {
    "collapsed": true
   },
   "outputs": [],
   "source": [
    "def get_seq_context_variant(chr_name,position,before,after):\n",
    "    #Chr_name: chromosome name\n",
    "    #position: position of variant\n",
    "    #before after: nucleotides before or after the variant\n",
    "    files = file_handles('/project/voight_datasets/hg19')\n",
    "    chr_name = str(chr_name)\n",
    "    position = int(position)\n",
    "    before = int(before)\n",
    "    after = int(after)\n",
    "    str_around = files.fetch_str_var(chr_name,position,before,after) #string around the variant including it\n",
    "    #print \"sequence context \"+str(before)+\" basepairs before and \"+str(after)+\" after the variant including the middle position\"+''.join(str_around)\n",
    "    #return ''.join(str_around)\n",
    "    return ''.join(str_around)"
   ]
  },
  {
   "cell_type": "code",
   "execution_count": 29,
   "metadata": {
    "collapsed": true
   },
   "outputs": [],
   "source": [
    "def get_seq_context_variant2(chr_name,position,before,after):\n",
    "    return str(ref_genome_chr.seq)[position - (before+1):position + after].upper()"
   ]
  },
  {
   "cell_type": "code",
   "execution_count": 7,
   "metadata": {
    "collapsed": true
   },
   "outputs": [],
   "source": [
    "coord = 100000"
   ]
  },
  {
   "cell_type": "markdown",
   "metadata": {},
   "source": [
    "# time? "
   ]
  },
  {
   "cell_type": "code",
   "execution_count": 36,
   "metadata": {
    "collapsed": false
   },
   "outputs": [
    {
     "name": "stdout",
     "output_type": "stream",
     "text": [
      "CPU times: user 324 ms, sys: 1.13 s, total: 1.45 s\n",
      "Wall time: 7.29 s\n"
     ]
    }
   ],
   "source": [
    "%%time\n",
    "for coord in range(10000,11000):\n",
    "    seq = get_seq_context_variant(\"1\",coord,3,3)"
   ]
  },
  {
   "cell_type": "code",
   "execution_count": 37,
   "metadata": {
    "collapsed": false
   },
   "outputs": [
    {
     "name": "stdout",
     "output_type": "stream",
     "text": [
      "CPU times: user 2 ms, sys: 0 ns, total: 2 ms\n",
      "Wall time: 1.89 ms\n"
     ]
    }
   ],
   "source": [
    "%%time\n",
    "for coord in range(10000,11000):\n",
    "    seq = str(record.seq)[coord-4:coord+3].upper()"
   ]
  },
  {
   "cell_type": "code",
   "execution_count": 38,
   "metadata": {
    "collapsed": false
   },
   "outputs": [
    {
     "name": "stdout",
     "output_type": "stream",
     "text": [
      "CPU times: user 0 ns, sys: 3 ms, total: 3 ms\n",
      "Wall time: 2.87 ms\n"
     ]
    }
   ],
   "source": [
    "%%time\n",
    "for coord in range(10000,11000):\n",
    "    seq = get_seq_context_variant2(\"1\",coord,3,3)"
   ]
  },
  {
   "cell_type": "markdown",
   "metadata": {},
   "source": [
    "# 3000 times faster"
   ]
  },
  {
   "cell_type": "markdown",
   "metadata": {},
   "source": [
    "# how about accuracy?"
   ]
  },
  {
   "cell_type": "code",
   "execution_count": 33,
   "metadata": {
    "collapsed": false
   },
   "outputs": [],
   "source": [
    "chrom = '1'"
   ]
  },
  {
   "cell_type": "code",
   "execution_count": 34,
   "metadata": {
    "collapsed": false
   },
   "outputs": [],
   "source": [
    "ref_genome_chr = SeqIO.read('/project/voight_datasets/hg19/chr'+chrom+'.fa', \"fasta\")"
   ]
  },
  {
   "cell_type": "code",
   "execution_count": 35,
   "metadata": {
    "collapsed": false
   },
   "outputs": [
    {
     "name": "stdout",
     "output_type": "stream",
     "text": [
      "2500 0\n"
     ]
    }
   ],
   "source": [
    "no_of_different_pulls, no_of_identical_pulls = 0,0\n",
    "for i in range(2500):\n",
    "    coord = random.randint(10000,100000000)    \n",
    "    if get_seq_context_variant(\"1\",coord,3,3) != get_seq_context_variant2(\"1\",coord,3,3):\n",
    "        no_of_different_pulls += 1\n",
    "    else:\n",
    "        no_of_identical_pulls += 1\n",
    "print no_of_identical_pulls, no_of_different_pulls"
   ]
  },
  {
   "cell_type": "markdown",
   "metadata": {},
   "source": [
    "# looks fine"
   ]
  },
  {
   "cell_type": "markdown",
   "metadata": {},
   "source": [
    "# jobs"
   ]
  },
  {
   "cell_type": "code",
   "execution_count": 10,
   "metadata": {
    "collapsed": false
   },
   "outputs": [
    {
     "name": "stdout",
     "output_type": "stream",
     "text": [
      "bsub -o ./nc_7mer_sub_rates_per_chrom_1kgp3/1 -e ./nc_7mer_sub_rates_per_chrom_1kgp3/1 -q voight_long python 7mer_sub_rates.py non_coding_all_after_pruned.interval_sorted_chr1 AFR_SNPs_only_no_singletons.bed ./../../output/nc_7mer_sub_rates_per_chrom_1kgp3/  1\n",
      "bsub -o ./nc_7mer_sub_rates_per_chrom_1kgp3/2 -e ./nc_7mer_sub_rates_per_chrom_1kgp3/2 -q voight_long python 7mer_sub_rates.py non_coding_all_after_pruned.interval_sorted_chr2 AFR_SNPs_only_no_singletons.bed ./../../output/nc_7mer_sub_rates_per_chrom_1kgp3/  2\n",
      "bsub -o ./nc_7mer_sub_rates_per_chrom_1kgp3/3 -e ./nc_7mer_sub_rates_per_chrom_1kgp3/3 -q voight_long python 7mer_sub_rates.py non_coding_all_after_pruned.interval_sorted_chr3 AFR_SNPs_only_no_singletons.bed ./../../output/nc_7mer_sub_rates_per_chrom_1kgp3/  3\n",
      "bsub -o ./nc_7mer_sub_rates_per_chrom_1kgp3/4 -e ./nc_7mer_sub_rates_per_chrom_1kgp3/4 -q voight_long python 7mer_sub_rates.py non_coding_all_after_pruned.interval_sorted_chr4 AFR_SNPs_only_no_singletons.bed ./../../output/nc_7mer_sub_rates_per_chrom_1kgp3/  4\n",
      "bsub -o ./nc_7mer_sub_rates_per_chrom_1kgp3/5 -e ./nc_7mer_sub_rates_per_chrom_1kgp3/5 -q voight_long python 7mer_sub_rates.py non_coding_all_after_pruned.interval_sorted_chr5 AFR_SNPs_only_no_singletons.bed ./../../output/nc_7mer_sub_rates_per_chrom_1kgp3/  5\n",
      "bsub -o ./nc_7mer_sub_rates_per_chrom_1kgp3/6 -e ./nc_7mer_sub_rates_per_chrom_1kgp3/6 -q voight_long python 7mer_sub_rates.py non_coding_all_after_pruned.interval_sorted_chr6 AFR_SNPs_only_no_singletons.bed ./../../output/nc_7mer_sub_rates_per_chrom_1kgp3/  6\n",
      "bsub -o ./nc_7mer_sub_rates_per_chrom_1kgp3/7 -e ./nc_7mer_sub_rates_per_chrom_1kgp3/7 -q voight_long python 7mer_sub_rates.py non_coding_all_after_pruned.interval_sorted_chr7 AFR_SNPs_only_no_singletons.bed ./../../output/nc_7mer_sub_rates_per_chrom_1kgp3/  7\n",
      "bsub -o ./nc_7mer_sub_rates_per_chrom_1kgp3/8 -e ./nc_7mer_sub_rates_per_chrom_1kgp3/8 -q voight_long python 7mer_sub_rates.py non_coding_all_after_pruned.interval_sorted_chr8 AFR_SNPs_only_no_singletons.bed ./../../output/nc_7mer_sub_rates_per_chrom_1kgp3/  8\n",
      "bsub -o ./nc_7mer_sub_rates_per_chrom_1kgp3/9 -e ./nc_7mer_sub_rates_per_chrom_1kgp3/9 -q voight_long python 7mer_sub_rates.py non_coding_all_after_pruned.interval_sorted_chr9 AFR_SNPs_only_no_singletons.bed ./../../output/nc_7mer_sub_rates_per_chrom_1kgp3/  9\n",
      "bsub -o ./nc_7mer_sub_rates_per_chrom_1kgp3/10 -e ./nc_7mer_sub_rates_per_chrom_1kgp3/10 -q voight_long python 7mer_sub_rates.py non_coding_all_after_pruned.interval_sorted_chr10 AFR_SNPs_only_no_singletons.bed ./../../output/nc_7mer_sub_rates_per_chrom_1kgp3/  10\n",
      "bsub -o ./nc_7mer_sub_rates_per_chrom_1kgp3/11 -e ./nc_7mer_sub_rates_per_chrom_1kgp3/11 -q voight_long python 7mer_sub_rates.py non_coding_all_after_pruned.interval_sorted_chr11 AFR_SNPs_only_no_singletons.bed ./../../output/nc_7mer_sub_rates_per_chrom_1kgp3/  11\n",
      "bsub -o ./nc_7mer_sub_rates_per_chrom_1kgp3/12 -e ./nc_7mer_sub_rates_per_chrom_1kgp3/12 -q voight_long python 7mer_sub_rates.py non_coding_all_after_pruned.interval_sorted_chr12 AFR_SNPs_only_no_singletons.bed ./../../output/nc_7mer_sub_rates_per_chrom_1kgp3/  12\n",
      "bsub -o ./nc_7mer_sub_rates_per_chrom_1kgp3/13 -e ./nc_7mer_sub_rates_per_chrom_1kgp3/13 -q voight_long python 7mer_sub_rates.py non_coding_all_after_pruned.interval_sorted_chr13 AFR_SNPs_only_no_singletons.bed ./../../output/nc_7mer_sub_rates_per_chrom_1kgp3/  13\n",
      "bsub -o ./nc_7mer_sub_rates_per_chrom_1kgp3/14 -e ./nc_7mer_sub_rates_per_chrom_1kgp3/14 -q voight_long python 7mer_sub_rates.py non_coding_all_after_pruned.interval_sorted_chr14 AFR_SNPs_only_no_singletons.bed ./../../output/nc_7mer_sub_rates_per_chrom_1kgp3/  14\n",
      "bsub -o ./nc_7mer_sub_rates_per_chrom_1kgp3/15 -e ./nc_7mer_sub_rates_per_chrom_1kgp3/15 -q voight_long python 7mer_sub_rates.py non_coding_all_after_pruned.interval_sorted_chr15 AFR_SNPs_only_no_singletons.bed ./../../output/nc_7mer_sub_rates_per_chrom_1kgp3/  15\n",
      "bsub -o ./nc_7mer_sub_rates_per_chrom_1kgp3/16 -e ./nc_7mer_sub_rates_per_chrom_1kgp3/16 -q voight_long python 7mer_sub_rates.py non_coding_all_after_pruned.interval_sorted_chr16 AFR_SNPs_only_no_singletons.bed ./../../output/nc_7mer_sub_rates_per_chrom_1kgp3/  16\n",
      "bsub -o ./nc_7mer_sub_rates_per_chrom_1kgp3/17 -e ./nc_7mer_sub_rates_per_chrom_1kgp3/17 -q voight_long python 7mer_sub_rates.py non_coding_all_after_pruned.interval_sorted_chr17 AFR_SNPs_only_no_singletons.bed ./../../output/nc_7mer_sub_rates_per_chrom_1kgp3/  17\n",
      "bsub -o ./nc_7mer_sub_rates_per_chrom_1kgp3/18 -e ./nc_7mer_sub_rates_per_chrom_1kgp3/18 -q voight_long python 7mer_sub_rates.py non_coding_all_after_pruned.interval_sorted_chr18 AFR_SNPs_only_no_singletons.bed ./../../output/nc_7mer_sub_rates_per_chrom_1kgp3/  18\n",
      "bsub -o ./nc_7mer_sub_rates_per_chrom_1kgp3/19 -e ./nc_7mer_sub_rates_per_chrom_1kgp3/19 -q voight_long python 7mer_sub_rates.py non_coding_all_after_pruned.interval_sorted_chr19 AFR_SNPs_only_no_singletons.bed ./../../output/nc_7mer_sub_rates_per_chrom_1kgp3/  19\n",
      "bsub -o ./nc_7mer_sub_rates_per_chrom_1kgp3/20 -e ./nc_7mer_sub_rates_per_chrom_1kgp3/20 -q voight_long python 7mer_sub_rates.py non_coding_all_after_pruned.interval_sorted_chr20 AFR_SNPs_only_no_singletons.bed ./../../output/nc_7mer_sub_rates_per_chrom_1kgp3/  20\n",
      "bsub -o ./nc_7mer_sub_rates_per_chrom_1kgp3/21 -e ./nc_7mer_sub_rates_per_chrom_1kgp3/21 -q voight_long python 7mer_sub_rates.py non_coding_all_after_pruned.interval_sorted_chr21 AFR_SNPs_only_no_singletons.bed ./../../output/nc_7mer_sub_rates_per_chrom_1kgp3/  21\n",
      "bsub -o ./nc_7mer_sub_rates_per_chrom_1kgp3/22 -e ./nc_7mer_sub_rates_per_chrom_1kgp3/22 -q voight_long python 7mer_sub_rates.py non_coding_all_after_pruned.interval_sorted_chr22 AFR_SNPs_only_no_singletons.bed ./../../output/nc_7mer_sub_rates_per_chrom_1kgp3/  22\n",
      "bsub -o ./nc_7mer_sub_rates_per_chrom_1kgp3/X -e ./nc_7mer_sub_rates_per_chrom_1kgp3/X -q voight_long python 7mer_sub_rates.py non_coding_all_after_pruned.interval_sorted_chrX AFR_SNPs_only_no_singletons.bed ./../../output/nc_7mer_sub_rates_per_chrom_1kgp3/  X\n"
     ]
    }
   ],
   "source": [
    "for chrom in [\"1\",\"2\",\"3\",\"4\",\"5\",\"6\",\"7\",\"8\",\"9\",\"10\",\"11\",\"12\",\"13\",\"14\",\"15\",\"16\",\"17\",\"18\",\"19\",\"20\",\"21\",\"22\",\"X\"]:\n",
    "    job_cmd = 'bsub -o ./nc_7mer_sub_rates_per_chrom_1kgp3/'+chrom+' -e ./nc_7mer_sub_rates_per_chrom_1kgp3/'+chrom+' -q voight_long python 7mer_sub_rates.py non_coding_all_after_pruned.interval_sorted_chr'+chrom+' AFR_SNPs_only_no_singletons.bed ./../../output/nc_7mer_sub_rates_per_chrom_1kgp3/  '+chrom\n",
    "    print job_cmd"
   ]
  },
  {
   "cell_type": "code",
   "execution_count": null,
   "metadata": {
    "collapsed": true
   },
   "outputs": [],
   "source": []
  },
  {
   "cell_type": "code",
   "execution_count": null,
   "metadata": {
    "collapsed": true
   },
   "outputs": [],
   "source": []
  },
  {
   "cell_type": "code",
   "execution_count": null,
   "metadata": {
    "collapsed": true
   },
   "outputs": [],
   "source": []
  },
  {
   "cell_type": "code",
   "execution_count": null,
   "metadata": {
    "collapsed": true
   },
   "outputs": [],
   "source": []
  },
  {
   "cell_type": "code",
   "execution_count": null,
   "metadata": {
    "collapsed": true
   },
   "outputs": [],
   "source": [
    "for chrom in [\"1\",\"2\",\"3\",\"4\",\"5\",\"6\",\"7\",\"8\",\"9\",\"10\",\"11\",\"12\",\"13\",\"14\",\"15\",\"16\",\"17\",\"18\",\"19\",\"20\",\"21\",\"22\",\"X\"]:\n",
    "    for job_id in range(500):\n",
    "        job_cmd = 'bsub -o ./nc_7mer_sub_rates_per_chrom_1kgp3/'+chrom+'/'JOB_ID -e ./nc_7mer_sub_rates_per_chrom_1kgp3/CHROM/JOB_ID -q voight_long python 7mer_sub_rates.py non_coding_all_after_pruned.interval_sorted_chrCHROM AFR_SNPs_only_no_singletons.bed ./../../output/nc_7mer_sub_rates_per_chrom_1kgp3/CHROM/ 500 JOB_ID"
   ]
  }
 ],
 "metadata": {
  "kernelspec": {
   "display_name": "Python 2",
   "language": "python",
   "name": "python2"
  },
  "language_info": {
   "codemirror_mode": {
    "name": "ipython",
    "version": 2
   },
   "file_extension": ".py",
   "mimetype": "text/x-python",
   "name": "python",
   "nbconvert_exporter": "python",
   "pygments_lexer": "ipython2",
   "version": "2.7.13"
  }
 },
 "nbformat": 4,
 "nbformat_minor": 2
}
